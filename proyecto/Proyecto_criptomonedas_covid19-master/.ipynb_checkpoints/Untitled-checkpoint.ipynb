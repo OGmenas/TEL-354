{
 "cells": [
  {
   "cell_type": "code",
   "execution_count": 1,
   "metadata": {},
   "outputs": [],
   "source": [
    "import pandas as pd\n",
    "import numpy as np\n",
    "import matplotlib.pyplot as plt\n"
   ]
  },
  {
   "cell_type": "code",
   "execution_count": 18,
   "metadata": {},
   "outputs": [
    {
     "data": {
      "text/html": [
       "<div>\n",
       "<style scoped>\n",
       "    .dataframe tbody tr th:only-of-type {\n",
       "        vertical-align: middle;\n",
       "    }\n",
       "\n",
       "    .dataframe tbody tr th {\n",
       "        vertical-align: top;\n",
       "    }\n",
       "\n",
       "    .dataframe thead th {\n",
       "        text-align: right;\n",
       "    }\n",
       "</style>\n",
       "<table border=\"1\" class=\"dataframe\">\n",
       "  <thead>\n",
       "    <tr style=\"text-align: right;\">\n",
       "      <th></th>\n",
       "      <th>Date</th>\n",
       "      <th>Open</th>\n",
       "      <th>High</th>\n",
       "      <th>Low</th>\n",
       "      <th>Close</th>\n",
       "      <th>Volume</th>\n",
       "      <th>Market Cap</th>\n",
       "    </tr>\n",
       "  </thead>\n",
       "  <tbody>\n",
       "    <tr>\n",
       "      <th>0</th>\n",
       "      <td>2020-07-13</td>\n",
       "      <td>242.18</td>\n",
       "      <td>244.31</td>\n",
       "      <td>238.23</td>\n",
       "      <td>239.60</td>\n",
       "      <td>7787751468</td>\n",
       "      <td>26775071858</td>\n",
       "    </tr>\n",
       "    <tr>\n",
       "      <th>1</th>\n",
       "      <td>2020-07-12</td>\n",
       "      <td>239.46</td>\n",
       "      <td>243.31</td>\n",
       "      <td>237.77</td>\n",
       "      <td>242.13</td>\n",
       "      <td>6596394718</td>\n",
       "      <td>27054158346</td>\n",
       "    </tr>\n",
       "    <tr>\n",
       "      <th>2</th>\n",
       "      <td>2020-07-11</td>\n",
       "      <td>241.04</td>\n",
       "      <td>241.53</td>\n",
       "      <td>238.33</td>\n",
       "      <td>239.46</td>\n",
       "      <td>5643067316</td>\n",
       "      <td>26752161985</td>\n",
       "    </tr>\n",
       "    <tr>\n",
       "      <th>3</th>\n",
       "      <td>2020-07-10</td>\n",
       "      <td>242.87</td>\n",
       "      <td>242.88</td>\n",
       "      <td>236.73</td>\n",
       "      <td>240.98</td>\n",
       "      <td>7281370522</td>\n",
       "      <td>26919422187</td>\n",
       "    </tr>\n",
       "    <tr>\n",
       "      <th>4</th>\n",
       "      <td>2020-07-09</td>\n",
       "      <td>246.75</td>\n",
       "      <td>247.29</td>\n",
       "      <td>239.90</td>\n",
       "      <td>243.02</td>\n",
       "      <td>8429099199</td>\n",
       "      <td>27143016879</td>\n",
       "    </tr>\n",
       "    <tr>\n",
       "      <th>...</th>\n",
       "      <td>...</td>\n",
       "      <td>...</td>\n",
       "      <td>...</td>\n",
       "      <td>...</td>\n",
       "      <td>...</td>\n",
       "      <td>...</td>\n",
       "      <td>...</td>\n",
       "    </tr>\n",
       "    <tr>\n",
       "      <th>190</th>\n",
       "      <td>2020-01-05</td>\n",
       "      <td>135.07</td>\n",
       "      <td>139.41</td>\n",
       "      <td>135.05</td>\n",
       "      <td>136.28</td>\n",
       "      <td>7526675353</td>\n",
       "      <td>14875569430</td>\n",
       "    </tr>\n",
       "    <tr>\n",
       "      <th>191</th>\n",
       "      <td>2020-01-04</td>\n",
       "      <td>134.17</td>\n",
       "      <td>136.05</td>\n",
       "      <td>133.04</td>\n",
       "      <td>135.07</td>\n",
       "      <td>7430904515</td>\n",
       "      <td>14741946278</td>\n",
       "    </tr>\n",
       "    <tr>\n",
       "      <th>192</th>\n",
       "      <td>2020-01-03</td>\n",
       "      <td>127.41</td>\n",
       "      <td>134.55</td>\n",
       "      <td>126.49</td>\n",
       "      <td>134.17</td>\n",
       "      <td>10476845358</td>\n",
       "      <td>14642130120</td>\n",
       "    </tr>\n",
       "    <tr>\n",
       "      <th>193</th>\n",
       "      <td>2020-01-02</td>\n",
       "      <td>130.82</td>\n",
       "      <td>130.82</td>\n",
       "      <td>126.95</td>\n",
       "      <td>127.41</td>\n",
       "      <td>8032709256</td>\n",
       "      <td>13902505466</td>\n",
       "    </tr>\n",
       "    <tr>\n",
       "      <th>194</th>\n",
       "      <td>2020-01-01</td>\n",
       "      <td>129.63</td>\n",
       "      <td>132.84</td>\n",
       "      <td>129.20</td>\n",
       "      <td>130.80</td>\n",
       "      <td>7935230330</td>\n",
       "      <td>14271059633</td>\n",
       "    </tr>\n",
       "  </tbody>\n",
       "</table>\n",
       "<p>195 rows × 7 columns</p>\n",
       "</div>"
      ],
      "text/plain": [
       "           Date    Open    High    Low    Close      Volume    Market Cap\n",
       "0    2020-07-13  242.18  244.31  238.23  239.60   7787751468  26775071858\n",
       "1    2020-07-12  239.46  243.31  237.77  242.13   6596394718  27054158346\n",
       "2    2020-07-11  241.04  241.53  238.33  239.46   5643067316  26752161985\n",
       "3    2020-07-10  242.87  242.88  236.73  240.98   7281370522  26919422187\n",
       "4    2020-07-09  246.75  247.29  239.90  243.02   8429099199  27143016879\n",
       "..          ...     ...     ...     ...     ...          ...          ...\n",
       "190  2020-01-05  135.07  139.41  135.05  136.28   7526675353  14875569430\n",
       "191  2020-01-04  134.17  136.05  133.04  135.07   7430904515  14741946278\n",
       "192  2020-01-03  127.41  134.55  126.49  134.17  10476845358  14642130120\n",
       "193  2020-01-02  130.82  130.82  126.95  127.41   8032709256  13902505466\n",
       "194  2020-01-01  129.63  132.84  129.20  130.80   7935230330  14271059633\n",
       "\n",
       "[195 rows x 7 columns]"
      ]
     },
     "execution_count": 18,
     "metadata": {},
     "output_type": "execute_result"
    }
   ],
   "source": [
    "df_eth= pd.read_csv('dataset_eth.csv')\n",
    "df_btc= pd.read_csv('dataset_btc.csv')\n",
    "df_eth = df_eth.drop(0).reset_index(drop=True)\n",
    "df_eth"
   ]
  },
  {
   "cell_type": "code",
   "execution_count": 23,
   "metadata": {},
   "outputs": [],
   "source": [
    "fecha = pd.to_datetime(df_btc['Date'])\n",
    "datetime_index = pd.DatetimeIndex(fecha.values) \n",
    "df_eth = df_eth.set_index(datetime_index).drop(['Date'],axis=1)\n",
    "df_btc = df_btc.set_index(datetime_index).drop(['Date'],axis=1)\n"
   ]
  },
  {
   "cell_type": "code",
   "execution_count": 29,
   "metadata": {},
   "outputs": [
    {
     "data": {
      "text/plain": [
       "[<matplotlib.lines.Line2D at 0x20c62ffbf08>]"
      ]
     },
     "execution_count": 29,
     "metadata": {},
     "output_type": "execute_result"
    },
    {
     "data": {
      "image/png": "[encoded data removed]",
      "text/plain": [
       "<Figure size 432x288 with 1 Axes>"
      ]
     },
     "metadata": {
      "needs_background": "light"
     },
     "output_type": "display_data"
    }
   ],
   "source": [
    "grafico_eth=plt.figure()\n",
    "plt.plot(df_eth.index,df_eth['High'],c='r',alpha=0.4)"
   ]
  },
  {
   "cell_type": "code",
   "execution_count": 30,
   "metadata": {},
   "outputs": [
    {
     "data": {
      "text/plain": [
       "[<matplotlib.lines.Line2D at 0x20c62ee74c8>]"
      ]
     },
     "execution_count": 30,
     "metadata": {},
     "output_type": "execute_result"
    },
    {
     "data": {
      "image/png": "[encoded data removed]",
      "text/plain": [
       "<Figure size 432x288 with 1 Axes>"
      ]
     },
     "metadata": {
      "needs_background": "light"
     },
     "output_type": "display_data"
    }
   ],
   "source": [
    "grafico_btc = plt.figure()\n",
    "plt.plot(df_btc.index,df_btc['High'],c='g',alpha=0.4)"
   ]
  },
  {
   "cell_type": "code",
   "execution_count": null,
   "metadata": {},
   "outputs": [],
   "source": []
  }
 ],
 "metadata": {
  "kernelspec": {
   "display_name": "Python 3",
   "language": "python",
   "name": "python3"
  },
  "language_info": {
   "codemirror_mode": {
    "name": "ipython",
    "version": 3
   },
   "file_extension": ".py",
   "mimetype": "text/x-python",
   "name": "python",
   "nbconvert_exporter": "python",
   "pygments_lexer": "ipython3",
   "version": "3.7.6"
  }
 },
 "nbformat": 4,
 "nbformat_minor": 4
}
