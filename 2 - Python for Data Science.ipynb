{
 "cells": [
  {
   "cell_type": "markdown",
   "metadata": {},
   "source": [
    "<h1 align=\"center\"> Quick Dive into Data Science with Python and Jupyter </h1>\n",
    "<h2 align=\"center\"> Part 1: Basics of Scientific Computing </h2> "
   ]
  },
  {
   "cell_type": "markdown",
   "metadata": {},
   "source": [
    "First of all, let us remember a little bit of Python\n",
    "\n",
    "**Basic Python Facts**\n",
    "* Python is an interpreted programming language --> no need compilation\n",
    "* Python uses indentation blocks --> no brackets, good readability\n",
    "* Python is multi-paradigm --> imperative, object-oriented, scripting or functional programming\n",
    "\n",
    "**Basic Jupyter Facts**\n",
    "* IPython is an interactive Python console --> autocompletion, history, etc.\n",
    "* IPython Notebooks is the evolution of IPython --> embedded figures, markdown, latex code, etc.\n",
    "* Is the evolution of IPython Notebooks --> Web-based server\n",
    "\n",
    "## 1.- Required Packages\n",
    "\n",
    "* Install Anaconda Python Distribution\n",
    "    * You can download it from https://www.continuum.io (we recommend Python 3.6)\n",
    "* [Optional] Create an environment\n",
    "    * If you already have Anaconda, and you do not want to mess it up, you can create an environment\n",
    "    * ``> conda create --name dm19 jupyter python=3.6``\n",
    "    * ``> source activate dm19``\n",
    "    * If you want to remove it later, run ``> conda remove --name dm19 --all``\n",
    "* Update Conda\n",
    "    * ``> conda update --all``\n",
    "* Install Jupyter\n",
    "    * ``> conda install jupyter``\n",
    "* [Alternative] Using pip\n",
    "    * ``> pip install notebook``\n",
    "* Install packages\n",
    "    * ``> conda install numpy scipy matplotlib pandas seaborn``\n",
    "    * ``> pip install [package]``\n",
    "* Start using Jupyter\n",
    "    * ``> jupyter notebook``\n",
    "    * [Alternative] ``> ipython notebook``"
   ]
  },
  {
   "cell_type": "markdown",
   "metadata": {},
   "source": [
    "## 2.- Jupyter markdown and code cells"
   ]
  },
  {
   "cell_type": "markdown",
   "metadata": {},
   "source": [
    "This is a markdown cell:\n",
    "* Bullets\n",
    "* Latex formulas: $\\int_a^b x dx$\n",
    "* [Links](http://www.google.cl)\n",
    "* Code: ``python setup.py``\n",
    "```Python\n",
    "for i in range(10):\n",
    "    print(i**2)\n",
    "```\n",
    "* Tables\n",
    "\n",
    "| **X** | **Y** |\n",
    "|-------|-------|\n",
    "| 3.145 | 2.34  |\n",
    "| 0.32  | 3     |\n",
    "* Images\n",
    "<img src=\"train2testing.jpg\" width=\"400\">"
   ]
  },
  {
   "cell_type": "code",
   "execution_count": 25,
   "metadata": {},
   "outputs": [
    {
     "name": "stdout",
     "output_type": "stream",
     "text": [
      "[1, 2, 3, 4, 5]\n"
     ]
    },
    {
     "data": {
      "text/plain": [
       "[1, 4, 9, 16, 25]"
      ]
     },
     "execution_count": 25,
     "metadata": {},
     "output_type": "execute_result"
    }
   ],
   "source": [
    "# This is a code cell (python code)\n",
    "import math\n",
    "a = [1,2,3,4,5]\n",
    "b = []\n",
    "for i in a:\n",
    "    b.append(i*i)\n",
    "print(a)\n",
    "# The last line is returned as output of the cell\n",
    "b"
   ]
  },
  {
   "cell_type": "markdown",
   "metadata": {},
   "source": [
    "## 3.- Composite Python types\n",
    "\n",
    "<font color='red'>HANDS ON SECTION!</font>"
   ]
  },
  {
   "cell_type": "markdown",
   "metadata": {},
   "source": [
    "#### Lists\n",
    "A collection of elements in an array __of any type__!"
   ]
  },
  {
   "cell_type": "code",
   "execution_count": 45,
   "metadata": {},
   "outputs": [
    {
     "data": {
      "text/plain": [
       "[42, 42.0, '42']"
      ]
     },
     "execution_count": 45,
     "metadata": {},
     "output_type": "execute_result"
    }
   ],
   "source": [
    "lst = [42,42.0,\"42\"]\n",
    "lst"
   ]
  },
  {
   "cell_type": "markdown",
   "metadata": {},
   "source": [
    "#### Tuples\n",
    "like lists, but inmutables (i.e., cannot be changed). Any operation over tuples __creates a new tuple__"
   ]
  },
  {
   "cell_type": "code",
   "execution_count": 46,
   "metadata": {},
   "outputs": [
    {
     "data": {
      "text/plain": [
       "(42, 42.0, '42')"
      ]
     },
     "execution_count": 46,
     "metadata": {},
     "output_type": "execute_result"
    }
   ],
   "source": [
    "tup = (42,42.0,'42')\n",
    "tup"
   ]
  },
  {
   "cell_type": "code",
   "execution_count": 47,
   "metadata": {},
   "outputs": [
    {
     "data": {
      "text/plain": [
       "[32, 42.0, '42']"
      ]
     },
     "execution_count": 47,
     "metadata": {},
     "output_type": "execute_result"
    }
   ],
   "source": [
    "lst[0]=32\n",
    "lst"
   ]
  },
  {
   "cell_type": "code",
   "execution_count": 48,
   "metadata": {
    "scrolled": true
   },
   "outputs": [
    {
     "ename": "TypeError",
     "evalue": "'tuple' object does not support item assignment",
     "output_type": "error",
     "traceback": [
      "\u001b[1;31m---------------------------------------------------------------------------\u001b[0m",
      "\u001b[1;31mTypeError\u001b[0m                                 Traceback (most recent call last)",
      "\u001b[1;32m<ipython-input-48-e232592662f0>\u001b[0m in \u001b[0;36m<module>\u001b[1;34m\u001b[0m\n\u001b[1;32m----> 1\u001b[1;33m \u001b[0mtup\u001b[0m\u001b[1;33m[\u001b[0m\u001b[1;36m0\u001b[0m\u001b[1;33m]\u001b[0m\u001b[1;33m=\u001b[0m\u001b[1;36m32\u001b[0m\u001b[1;33m\u001b[0m\u001b[1;33m\u001b[0m\u001b[0m\n\u001b[0m\u001b[0;32m      2\u001b[0m \u001b[0mtup\u001b[0m\u001b[1;33m\u001b[0m\u001b[1;33m\u001b[0m\u001b[0m\n",
      "\u001b[1;31mTypeError\u001b[0m: 'tuple' object does not support item assignment"
     ]
    }
   ],
   "source": [
    "tup[0]=32\n",
    "tup"
   ]
  },
  {
   "cell_type": "markdown",
   "metadata": {},
   "source": [
    "#### Dictionaries\n",
    "Also known as keymaps, hashmaps, associative arrays or similar. Is a list, where every element has a __key__ associated with it"
   ]
  },
  {
   "cell_type": "code",
   "execution_count": 30,
   "metadata": {},
   "outputs": [
    {
     "name": "stdout",
     "output_type": "stream",
     "text": [
      "1\n",
      "2.5\n"
     ]
    }
   ],
   "source": [
    "dt ={'uno':1,'dos':2,'dos y medio':2.5,'tres':3}\n",
    "print(dt['uno'])\n",
    "print(dt['dos y medio'])"
   ]
  },
  {
   "cell_type": "markdown",
   "metadata": {},
   "source": [
    "## 4.- Imports\n",
    "<font color='red'>HANDS ON SECTION!</font>\n",
    "\n",
    "Imports do not import the code of a library, but the namespace of it and a few initialization."
   ]
  },
  {
   "cell_type": "code",
   "execution_count": 49,
   "metadata": {},
   "outputs": [
    {
     "name": "stdout",
     "output_type": "stream",
     "text": [
      "True\n"
     ]
    }
   ],
   "source": [
    "\n",
    "# Original Namespace Import\n",
    "import numpy\n",
    "a = numpy.array([1,2,3,4])\n",
    "\n",
    "\n",
    "# Renaming Namespace Import\n",
    "import numpy as np\n",
    "b = np.array([1,2,3,4])\n",
    "\n",
    "# Namespace Inclusion Import\n",
    "from numpy import *\n",
    "c = array([1,2,3,4])\n",
    "\n",
    "print(np.array_equal(a,b))\n",
    "np.array_equal(a,c);"
   ]
  },
  {
   "cell_type": "markdown",
   "metadata": {},
   "source": [
    "## 5.- IPython Magics\n",
    "<font color='red'>HANDS ON SECTION!</font>\n",
    "\n",
    "`IPython magics` are custom commands that let you interact with your `OS` and filesystem. There are line magics `%` (which just affect the behavior of such line) and cell magics `%%` (which affect the whole cell). "
   ]
  },
  {
   "cell_type": "code",
   "execution_count": 32,
   "metadata": {},
   "outputs": [
    {
     "data": {
      "application/json": {
       "cell": {
        "!": "OSMagics",
        "HTML": "Other",
        "SVG": "Other",
        "bash": "Other",
        "capture": "ExecutionMagics",
        "cmd": "Other",
        "debug": "ExecutionMagics",
        "file": "Other",
        "html": "DisplayMagics",
        "javascript": "DisplayMagics",
        "js": "DisplayMagics",
        "latex": "DisplayMagics",
        "markdown": "DisplayMagics",
        "perl": "Other",
        "prun": "ExecutionMagics",
        "pypy": "Other",
        "python": "Other",
        "python2": "Other",
        "python3": "Other",
        "ruby": "Other",
        "script": "ScriptMagics",
        "sh": "Other",
        "svg": "DisplayMagics",
        "sx": "OSMagics",
        "system": "OSMagics",
        "time": "ExecutionMagics",
        "timeit": "ExecutionMagics",
        "writefile": "OSMagics"
       },
       "line": {
        "alias": "OSMagics",
        "alias_magic": "BasicMagics",
        "autoawait": "AsyncMagics",
        "autocall": "AutoMagics",
        "automagic": "AutoMagics",
        "autosave": "KernelMagics",
        "bookmark": "OSMagics",
        "cd": "OSMagics",
        "clear": "KernelMagics",
        "cls": "KernelMagics",
        "colors": "BasicMagics",
        "conda": "PackagingMagics",
        "config": "ConfigMagics",
        "connect_info": "KernelMagics",
        "copy": "Other",
        "ddir": "Other",
        "debug": "ExecutionMagics",
        "dhist": "OSMagics",
        "dirs": "OSMagics",
        "doctest_mode": "BasicMagics",
        "echo": "Other",
        "ed": "Other",
        "edit": "KernelMagics",
        "env": "OSMagics",
        "gui": "BasicMagics",
        "hist": "Other",
        "history": "HistoryMagics",
        "killbgscripts": "ScriptMagics",
        "ldir": "Other",
        "less": "KernelMagics",
        "load": "CodeMagics",
        "load_ext": "ExtensionMagics",
        "loadpy": "CodeMagics",
        "logoff": "LoggingMagics",
        "logon": "LoggingMagics",
        "logstart": "LoggingMagics",
        "logstate": "LoggingMagics",
        "logstop": "LoggingMagics",
        "ls": "Other",
        "lsmagic": "BasicMagics",
        "macro": "ExecutionMagics",
        "magic": "BasicMagics",
        "matplotlib": "PylabMagics",
        "mkdir": "Other",
        "more": "KernelMagics",
        "notebook": "BasicMagics",
        "page": "BasicMagics",
        "pastebin": "CodeMagics",
        "pdb": "ExecutionMagics",
        "pdef": "NamespaceMagics",
        "pdoc": "NamespaceMagics",
        "pfile": "NamespaceMagics",
        "pinfo": "NamespaceMagics",
        "pinfo2": "NamespaceMagics",
        "pip": "PackagingMagics",
        "popd": "OSMagics",
        "pprint": "BasicMagics",
        "precision": "BasicMagics",
        "prun": "ExecutionMagics",
        "psearch": "NamespaceMagics",
        "psource": "NamespaceMagics",
        "pushd": "OSMagics",
        "pwd": "OSMagics",
        "pycat": "OSMagics",
        "pylab": "PylabMagics",
        "qtconsole": "KernelMagics",
        "quickref": "BasicMagics",
        "recall": "HistoryMagics",
        "rehashx": "OSMagics",
        "reload_ext": "ExtensionMagics",
        "ren": "Other",
        "rep": "Other",
        "rerun": "HistoryMagics",
        "reset": "NamespaceMagics",
        "reset_selective": "NamespaceMagics",
        "rmdir": "Other",
        "run": "ExecutionMagics",
        "save": "CodeMagics",
        "sc": "OSMagics",
        "set_env": "OSMagics",
        "store": "StoreMagics",
        "sx": "OSMagics",
        "system": "OSMagics",
        "tb": "ExecutionMagics",
        "time": "ExecutionMagics",
        "timeit": "ExecutionMagics",
        "unalias": "OSMagics",
        "unload_ext": "ExtensionMagics",
        "who": "NamespaceMagics",
        "who_ls": "NamespaceMagics",
        "whos": "NamespaceMagics",
        "xdel": "NamespaceMagics",
        "xmode": "BasicMagics"
       }
      },
      "text/plain": [
       "Available line magics:\n",
       "%alias  %alias_magic  %autoawait  %autocall  %automagic  %autosave  %bookmark  %cd  %clear  %cls  %colors  %conda  %config  %connect_info  %copy  %ddir  %debug  %dhist  %dirs  %doctest_mode  %echo  %ed  %edit  %env  %gui  %hist  %history  %killbgscripts  %ldir  %less  %load  %load_ext  %loadpy  %logoff  %logon  %logstart  %logstate  %logstop  %ls  %lsmagic  %macro  %magic  %matplotlib  %mkdir  %more  %notebook  %page  %pastebin  %pdb  %pdef  %pdoc  %pfile  %pinfo  %pinfo2  %pip  %popd  %pprint  %precision  %prun  %psearch  %psource  %pushd  %pwd  %pycat  %pylab  %qtconsole  %quickref  %recall  %rehashx  %reload_ext  %ren  %rep  %rerun  %reset  %reset_selective  %rmdir  %run  %save  %sc  %set_env  %store  %sx  %system  %tb  %time  %timeit  %unalias  %unload_ext  %who  %who_ls  %whos  %xdel  %xmode\n",
       "\n",
       "Available cell magics:\n",
       "%%!  %%HTML  %%SVG  %%bash  %%capture  %%cmd  %%debug  %%file  %%html  %%javascript  %%js  %%latex  %%markdown  %%perl  %%prun  %%pypy  %%python  %%python2  %%python3  %%ruby  %%script  %%sh  %%svg  %%sx  %%system  %%time  %%timeit  %%writefile\n",
       "\n",
       "Automagic is ON, % prefix IS NOT needed for line magics."
      ]
     },
     "execution_count": 32,
     "metadata": {},
     "output_type": "execute_result"
    }
   ],
   "source": [
    "# this will list all magic commands\n",
    "%lsmagic"
   ]
  },
  {
   "cell_type": "code",
   "execution_count": 16,
   "metadata": {},
   "outputs": [
    {
     "data": {
      "text/plain": [
       "'C:\\\\Users\\\\og\\\\Documents\\\\docs\\\\mineria'"
      ]
     },
     "execution_count": 16,
     "metadata": {},
     "output_type": "execute_result"
    }
   ],
   "source": [
    "# also work in ls, cd, mkdir, etc\n",
    "%pwd"
   ]
  },
  {
   "cell_type": "code",
   "execution_count": 18,
   "metadata": {
    "scrolled": true
   },
   "outputs": [
    {
     "name": "stdout",
     "output_type": "stream",
     "text": [
      "dt ={'uno':1,'dos':2,'dos y medio':2.5,'tres':3}\n",
      "print(dt['uno'])\n",
      "print(dt['dos y medio'])\n",
      "\n",
      "# Original Namespace Import\n",
      "import numpy\n",
      "a = numpy.array([1,2,3,4])\n",
      "\n",
      "\n",
      "# Renaming Namespace Import\n",
      "import numpy as np\n",
      "b = np.array([1,2,3,4])\n",
      "\n",
      "# Namespace Inclusion Import\n",
      "from numpy import *\n",
      "c = array([1,2,3,4])\n",
      "\n",
      "print(np.array_equal(a,b))\n",
      "np.array_equal(a,c);\n",
      "# this will list all magic commands\n",
      "%lsmagic\n",
      "# also work in ls, cd, mkdir, etc\n",
      "%pwd\n",
      "%history -l 5\n"
     ]
    }
   ],
   "source": [
    "%history -l 5"
   ]
  },
  {
   "cell_type": "code",
   "execution_count": 33,
   "metadata": {},
   "outputs": [
    {
     "name": "stdout",
     "output_type": "stream",
     "text": [
      "1.02 s ± 13.8 ms per loop (mean ± std. dev. of 7 runs, 1 loop each)\n"
     ]
    }
   ],
   "source": [
    "%timeit [i*i for i in range(10000000)]"
   ]
  },
  {
   "cell_type": "code",
   "execution_count": 35,
   "metadata": {},
   "outputs": [
    {
     "name": "stdout",
     "output_type": "stream",
     "text": [
      "Couldn't find program: 'bash'\n"
     ]
    }
   ],
   "source": [
    "%%bash\n",
    "cd ../..\n",
    "ls"
   ]
  },
  {
   "cell_type": "code",
   "execution_count": 36,
   "metadata": {},
   "outputs": [
    {
     "name": "stdout",
     "output_type": "stream",
     "text": [
      "Overwriting test.txt\n"
     ]
    }
   ],
   "source": [
    "%%writefile test.txt\n",
    "hello world!!!"
   ]
  },
  {
   "cell_type": "code",
   "execution_count": 50,
   "metadata": {},
   "outputs": [
    {
     "name": "stdout",
     "output_type": "stream",
     "text": [
      "Couldn't find program: 'bash'\n"
     ]
    }
   ],
   "source": [
    "%%bash\n",
    "cat test.txt\n",
    "rm test.txt"
   ]
  },
  {
   "cell_type": "markdown",
   "metadata": {},
   "source": [
    "## 6.- Scientific Computing: `NumPy`\n",
    "\n",
    "<a href=\"http://www.numpy.org\">NumPy</a> is the main Python package for working with N-dimensional arrays. Any list of numbers can be recast as a NumPy array.\n",
    "\n",
    "The reasons of why you should use NumPy instead of any other __iterable object_ in Python are:\n",
    "* NumPy provides an ndarray structure for storing numerical data __in a contiguous way__.\n",
    "* Also implements fast __mathematical operations__ on ndarrays, that exploit this contiguity.\n",
    "* __Brevity of the syntax for array operations__. A language like C or Java would require us to write a loop for a matrix operation as simple as C=A+B."
   ]
  },
  {
   "cell_type": "markdown",
   "metadata": {},
   "source": [
    "### The `numpy.ndarray` structure\n",
    "\n",
    "The `ndarray` is the NumPy object that let us create __$N$-dimensional arrays__. It is essentially defined by:\n",
    "1. A number of __dimensions__\n",
    "2. a __shape__\n",
    "3. __strides__\n",
    "4. __data type__ or __dtpe__\n",
    "5. The __data buffer__.\n",
    "\n",
    "<img src='data/ndarray.png' style=\"width: 500px;\">"
   ]
  },
  {
   "cell_type": "markdown",
   "metadata": {},
   "source": [
    "### How an `ndarray` is stored in memory?\n",
    "\n",
    "When there is more than one dimension, there are two ways of storing the elements in the memory block:\n",
    "1. Elements can be stored in __row-major order__ (also known as __C-order__) or,\n",
    "2. In __column-major order__ (also known as __Fortran-order__).\n",
    "\n",
    "<img src='ndarray_storage.png' style=\"width: 800px;\">"
   ]
  },
  {
   "cell_type": "markdown",
   "metadata": {},
   "source": [
    "### Creating Arrays\n",
    "<font color='red'>HANDS ON SECTION!</font>\n",
    "\n",
    "There are several NumPy functions for creating common types of arrays. Below is a list of the most common used:"
   ]
  },
  {
   "cell_type": "code",
   "execution_count": 51,
   "metadata": {},
   "outputs": [
    {
     "name": "stdout",
     "output_type": "stream",
     "text": [
      "Zeros:\n",
      "[[0. 0. 0.]]\n",
      "\n",
      "Ones:\n",
      "[[1. 1. 1.]\n",
      " [1. 1. 1.]\n",
      " [1. 1. 1.]]\n",
      "\n",
      "Empty:\n",
      "[[1. 1. 1.]\n",
      " [1. 1. 1.]\n",
      " [1. 1. 1.]]\n",
      "\n",
      "Range:\n",
      "[0. 1. 2. 3. 4. 5. 6. 7. 8. 9.]\n",
      "\n",
      "Regular grid:\n",
      "[0.    0.125 0.25  0.375 0.5   0.625 0.75  0.875 1.   ]\n",
      "\n",
      "Array constructor\n",
      "[ 2  3  5 10 -1]\n"
     ]
    }
   ],
   "source": [
    "# Arrays of zeros: np.zeros(shape)\n",
    "print(\"Zeros:\")\n",
    "print( np.zeros((1,3)) )\n",
    "\n",
    "# Arrays of ones: np.ones(shape)\n",
    "print(\"\\nOnes:\")\n",
    "print( np.ones((3,3)) )\n",
    "\n",
    "# Empty array: np.empty(shape)\n",
    "print(\"\\nEmpty:\")\n",
    "print( np.empty((3,3)) )\n",
    "\n",
    "# Range of values: np.range(start, stop, step)\n",
    "print(\"\\nRange:\")\n",
    "print( np.arange(0., 10., 1.) )\n",
    "\n",
    "# Regular grid: np.linspace(start, end, n_values)\n",
    "print(\"\\nRegular grid:\")\n",
    "print( np.linspace(0., 1., 9) )\n",
    "\n",
    "# Array constructor: np.array( python_iterable )\n",
    "print(\"\\nArray constructor\")\n",
    "print( np.array([2, 3, 5, 10, -1]) )"
   ]
  },
  {
   "cell_type": "markdown",
   "metadata": {},
   "source": [
    "Also `NumPy` provides useful functions to create matrices filled with random values, from different random distributions:"
   ]
  },
  {
   "cell_type": "code",
   "execution_count": 52,
   "metadata": {},
   "outputs": [
    {
     "name": "stdout",
     "output_type": "stream",
     "text": [
      "\n",
      "Random sequences: Uniform distribution\n",
      "[9.84057694 9.56996848 6.76443608 2.62377556 5.25193053 7.78604658]\n",
      "\n",
      "Random sequences: Normal (0,1) distribution\n",
      "[-0.69430525  1.63906135  0.98262193  1.75061786  0.1713328  -0.5804491 ]\n"
     ]
    }
   ],
   "source": [
    "# Random secuences: np.random\n",
    "print(\"\\nRandom sequences: Uniform distribution\")\n",
    "print( np.random.uniform(10, size=6) )\n",
    "\n",
    "# Random secuences: np.random\n",
    "print(\"\\nRandom sequences: Normal (0,1) distribution\")\n",
    "print( np.random.randn((6)) )"
   ]
  },
  {
   "cell_type": "markdown",
   "metadata": {},
   "source": [
    "For a full list of all the available random distributions see [here](https://docs.scipy.org/doc/numpy-1.12.0/reference/routines.random.html)."
   ]
  },
  {
   "cell_type": "markdown",
   "metadata": {},
   "source": [
    "### Basic Mathematical operations\n",
    "<font color='red'>HANDS ON SECTION!</font>\n",
    "\n",
    "Most of the operations performed in NumPy are handled __element-wise__, i.e, computing C = A + B will translates into $C[i,j] = A[i,j] + B[i,j]$. (The only exception is __broadcasting__, and will be explained soon).\n",
    "\n",
    "Below is a list with the most common used mathematical operations. For a comprehensive list see here: [NumPy mathematical functions](https://docs.scipy.org/doc/numpy/reference/routines.math.html)."
   ]
  },
  {
   "cell_type": "code",
   "execution_count": 53,
   "metadata": {},
   "outputs": [],
   "source": [
    "# first we create two random arrays:\n",
    "A = 5*np.ones((5,5))\n",
    "B = -3*np.ones((5,5))"
   ]
  },
  {
   "cell_type": "code",
   "execution_count": 54,
   "metadata": {},
   "outputs": [
    {
     "name": "stdout",
     "output_type": "stream",
     "text": [
      "[[5. 5. 5. 5. 5.]\n",
      " [5. 5. 5. 5. 5.]\n",
      " [5. 5. 5. 5. 5.]\n",
      " [5. 5. 5. 5. 5.]\n",
      " [5. 5. 5. 5. 5.]]\n",
      "[[-3. -3. -3. -3. -3.]\n",
      " [-3. -3. -3. -3. -3.]\n",
      " [-3. -3. -3. -3. -3.]\n",
      " [-3. -3. -3. -3. -3.]\n",
      " [-3. -3. -3. -3. -3.]]\n"
     ]
    }
   ],
   "source": [
    "print(A)\n",
    "print(B)"
   ]
  },
  {
   "cell_type": "code",
   "execution_count": 55,
   "metadata": {},
   "outputs": [
    {
     "name": "stdout",
     "output_type": "stream",
     "text": [
      "Sum:\n",
      "[[2. 2. 2. 2. 2.]\n",
      " [2. 2. 2. 2. 2.]\n",
      " [2. 2. 2. 2. 2.]\n",
      " [2. 2. 2. 2. 2.]\n",
      " [2. 2. 2. 2. 2.]]\n",
      "\n",
      "Subtraction\n",
      "[[8. 8. 8. 8. 8.]\n",
      " [8. 8. 8. 8. 8.]\n",
      " [8. 8. 8. 8. 8.]\n",
      " [8. 8. 8. 8. 8.]\n",
      " [8. 8. 8. 8. 8.]]\n",
      "\n",
      "Product\n",
      "[[-15. -15. -15. -15. -15.]\n",
      " [-15. -15. -15. -15. -15.]\n",
      " [-15. -15. -15. -15. -15.]\n",
      " [-15. -15. -15. -15. -15.]\n",
      " [-15. -15. -15. -15. -15.]]\n",
      "\n",
      "Matricial Product\n",
      "[[-75. -75. -75. -75. -75.]\n",
      " [-75. -75. -75. -75. -75.]\n",
      " [-75. -75. -75. -75. -75.]\n",
      " [-75. -75. -75. -75. -75.]\n",
      " [-75. -75. -75. -75. -75.]]\n",
      "\n",
      " Power\n",
      "[[25. 25. 25. 25. 25.]\n",
      " [25. 25. 25. 25. 25.]\n",
      " [25. 25. 25. 25. 25.]\n",
      " [25. 25. 25. 25. 25.]\n",
      " [25. 25. 25. 25. 25.]]\n",
      "\n",
      " np.exp()\n",
      "[[148.4131591 148.4131591 148.4131591 148.4131591 148.4131591]\n",
      " [148.4131591 148.4131591 148.4131591 148.4131591 148.4131591]\n",
      " [148.4131591 148.4131591 148.4131591 148.4131591 148.4131591]\n",
      " [148.4131591 148.4131591 148.4131591 148.4131591 148.4131591]\n",
      " [148.4131591 148.4131591 148.4131591 148.4131591 148.4131591]]\n",
      "\n",
      " np.sin()\n",
      "[[-0.95892427 -0.95892427 -0.95892427 -0.95892427 -0.95892427]\n",
      " [-0.95892427 -0.95892427 -0.95892427 -0.95892427 -0.95892427]\n",
      " [-0.95892427 -0.95892427 -0.95892427 -0.95892427 -0.95892427]\n",
      " [-0.95892427 -0.95892427 -0.95892427 -0.95892427 -0.95892427]\n",
      " [-0.95892427 -0.95892427 -0.95892427 -0.95892427 -0.95892427]]\n"
     ]
    }
   ],
   "source": [
    "# sum\n",
    "print(\"Sum:\")\n",
    "print( A+B )\n",
    "\n",
    "# subtraction\n",
    "print(\"\\nSubtraction\")\n",
    "print( A-B )\n",
    "\n",
    "# product\n",
    "print(\"\\nProduct\")\n",
    "print( A*B )\n",
    "\n",
    "# matricial product\n",
    "print(\"\\nMatricial Product\")\n",
    "print( np.dot(A,B) )\n",
    "\n",
    "# power\n",
    "print(\"\\n Power\")\n",
    "print( A**2 )\n",
    "\n",
    "# Some common mathematical functions\n",
    "print(\"\\n np.exp()\")\n",
    "print( np.exp(A) )\n",
    "print(\"\\n np.sin()\")\n",
    "print( np.sin(A) )"
   ]
  },
  {
   "cell_type": "markdown",
   "metadata": {},
   "source": [
    "### Boolean operations\n",
    "<font color='red'>HANDS ON SECTION!</font>\n",
    "\n",
    "Comparisons in `NumPy` work exaclty the same way as mathematical operations, i.e, __element wise!__. Let's see some examples. \n",
    "\n",
    "Arrays to compare:"
   ]
  },
  {
   "cell_type": "code",
   "execution_count": 56,
   "metadata": {},
   "outputs": [
    {
     "name": "stdout",
     "output_type": "stream",
     "text": [
      "A:\n",
      "[[1 2 3]\n",
      " [2 3 5]\n",
      " [1 9 6]] \n",
      "\n",
      "B:\n",
      "[[1 2 3]\n",
      " [3 5 5]\n",
      " [0 8 5]]\n"
     ]
    }
   ],
   "source": [
    "# Creating two 2d-arrays\n",
    "A = np.array( [[1, 2, 3], [2, 3, 5], [1, 9, 6]] )\n",
    "B = np.array( [[1, 2, 3], [3, 5, 5], [0, 8, 5]] )\n",
    "print(\"A:\"); print(A, '\\n')\n",
    "print(\"B:\"); print(B)"
   ]
  },
  {
   "cell_type": "code",
   "execution_count": 57,
   "metadata": {},
   "outputs": [
    {
     "name": "stdout",
     "output_type": "stream",
     "text": [
      "A > B:\n",
      "[[False False False]\n",
      " [False False False]\n",
      " [ True  True  True]]\n",
      "\n",
      "A =< B:\n",
      "[[ True  True  True]\n",
      " [ True  True  True]\n",
      " [False False False]]\n",
      "\n",
      " A==B:\n",
      "[[ True  True  True]\n",
      " [False False  True]\n",
      " [False False False]]\n",
      "\n",
      " A!=B:\n",
      "[[False False False]\n",
      " [ True  True False]\n",
      " [ True  True  True]]\n"
     ]
    }
   ],
   "source": [
    "print(\"A > B:\")\n",
    "print( A > B )\n",
    "\n",
    "print(\"\\nA =< B:\")\n",
    "print( A <= B )\n",
    "\n",
    "print(\"\\n A==B:\")\n",
    "print( A==B )\n",
    "\n",
    "print(\"\\n A!=B:\")\n",
    "print( A!=B )"
   ]
  },
  {
   "cell_type": "markdown",
   "metadata": {},
   "source": [
    "Now we create to boolean arrays and perform some logical operations over them:"
   ]
  },
  {
   "cell_type": "code",
   "execution_count": 58,
   "metadata": {},
   "outputs": [
    {
     "name": "stdout",
     "output_type": "stream",
     "text": [
      "C:\n",
      "[[ True  True  True]\n",
      " [False False  True]\n",
      " [False False False]] \n",
      "\n",
      "D:\n",
      "[[ True  True  True]\n",
      " [False False  True]\n",
      " [ True  True  True]]\n"
     ]
    }
   ],
   "source": [
    "# Creating two 2d boolean arrays\n",
    "C = A==B; print('C:'); print(C,'\\n')\n",
    "D = A>=B; print('D:'); print(D)"
   ]
  },
  {
   "cell_type": "code",
   "execution_count": 59,
   "metadata": {},
   "outputs": [
    {
     "name": "stdout",
     "output_type": "stream",
     "text": [
      "\n",
      " A and B:\n",
      "[[ True  True  True]\n",
      " [False False  True]\n",
      " [False False False]]\n",
      "[[ True  True  True]\n",
      " [False False  True]\n",
      " [False False False]]\n",
      "\n",
      " A or B:\n",
      "[[ True  True  True]\n",
      " [False False  True]\n",
      " [ True  True  True]]\n",
      "[[ True  True  True]\n",
      " [False False  True]\n",
      " [ True  True  True]]\n",
      "\n",
      " not A:\n",
      "[[False False False]\n",
      " [ True  True False]\n",
      " [ True  True  True]]\n",
      "[[False False False]\n",
      " [ True  True False]\n",
      " [ True  True  True]]\n"
     ]
    }
   ],
   "source": [
    "print(\"\\n A and B:\")\n",
    "print( C & D)\n",
    "print( np.logical_and(C,D) )\n",
    "\n",
    "print(\"\\n A or B:\")\n",
    "print( C | D)\n",
    "print( np.logical_or(C,D) )\n",
    "\n",
    "print(\"\\n not A:\")\n",
    "print( ~C )\n",
    "print( np.logical_not(C))"
   ]
  },
  {
   "cell_type": "markdown",
   "metadata": {},
   "source": [
    "### Some _important_ matricial operations\n",
    "<font color='red'>HANDS ON SECTION!</font>"
   ]
  },
  {
   "cell_type": "markdown",
   "metadata": {},
   "source": [
    "__Solving a linear system of equations__: $A x = b$"
   ]
  },
  {
   "cell_type": "code",
   "execution_count": 60,
   "metadata": {},
   "outputs": [],
   "source": [
    "A = np.random.random((10,10))\n",
    "b = np.random.random(10)"
   ]
  },
  {
   "cell_type": "code",
   "execution_count": 61,
   "metadata": {},
   "outputs": [
    {
     "name": "stdout",
     "output_type": "stream",
     "text": [
      "Solution: [-0.79584169  0.59871517 -0.30464136  0.39847884  1.13427046  0.1064688\n",
      " -1.26039822 -1.38905813  0.64648268  1.74330402]\n"
     ]
    }
   ],
   "source": [
    "x = np.linalg.solve(A,b)\n",
    "print('Solution:', x)"
   ]
  },
  {
   "cell_type": "markdown",
   "metadata": {},
   "source": [
    "__Matricial norm__"
   ]
  },
  {
   "cell_type": "code",
   "execution_count": 62,
   "metadata": {},
   "outputs": [
    {
     "data": {
      "text/plain": [
       "4.763552121955519"
      ]
     },
     "execution_count": 62,
     "metadata": {},
     "output_type": "execute_result"
    }
   ],
   "source": [
    "## norm-2\n",
    "np.linalg.norm(A, ord=2)"
   ]
  },
  {
   "cell_type": "markdown",
   "metadata": {},
   "source": [
    "__Determinant of a matrix__"
   ]
  },
  {
   "cell_type": "code",
   "execution_count": 63,
   "metadata": {},
   "outputs": [
    {
     "name": "stdout",
     "output_type": "stream",
     "text": [
      "[[0.98432291 0.8842085  0.00966531 0.05072084 0.28675888 0.99798876\n",
      "  0.45108982 0.1307301  0.45689855 0.25469337]\n",
      " [0.61899536 0.62543256 0.07963966 0.65074487 0.23302133 0.71001142\n",
      "  0.04489951 0.22567845 0.15002906 0.43666217]\n",
      " [0.60073274 0.17116411 0.99331214 0.58334399 0.74609919 0.59293854\n",
      "  0.07297918 0.13025881 0.16305868 0.29764911]\n",
      " [0.05394808 0.49393786 0.02207837 0.66699479 0.25300295 0.84938158\n",
      "  0.59125159 0.19564047 0.46845002 0.46940358]\n",
      " [0.72962308 0.63052975 0.93808434 0.42212034 0.13364397 0.6805208\n",
      "  0.60981104 0.17201021 0.51570036 0.94995833]\n",
      " [0.92450755 0.37721398 0.05291186 0.73416378 0.64905396 0.00865331\n",
      "  0.64345449 0.46091849 0.69203601 0.63372291]\n",
      " [0.95051318 0.6787439  0.77127211 0.78167124 0.75960057 0.09910863\n",
      "  0.33718753 0.15580053 0.31925748 0.1661947 ]\n",
      " [0.65287882 0.063494   0.07810636 0.30473118 0.62423273 0.9768626\n",
      "  0.71402079 0.17751057 0.07516534 0.40250064]\n",
      " [0.49796823 0.43362038 0.15946802 0.32523534 0.26137603 0.26083469\n",
      "  0.3243498  0.02122685 0.11283014 0.45460331]\n",
      " [0.52154515 0.84383322 0.38471289 0.32017679 0.85992653 0.43366521\n",
      "  0.7660588  0.8662395  0.68769011 0.38261389]]\n"
     ]
    }
   ],
   "source": [
    "np.linalg.det(A)\n",
    "print(A)"
   ]
  },
  {
   "cell_type": "markdown",
   "metadata": {},
   "source": [
    "__SVD decomposition__"
   ]
  },
  {
   "cell_type": "code",
   "execution_count": 64,
   "metadata": {},
   "outputs": [],
   "source": [
    "S,V,D = np.linalg.svd(A)"
   ]
  },
  {
   "cell_type": "code",
   "execution_count": 68,
   "metadata": {},
   "outputs": [
    {
     "ename": "AttributeError",
     "evalue": "module 'scipy.misc' has no attribute 'imsave'",
     "output_type": "error",
     "traceback": [
      "\u001b[1;31m---------------------------------------------------------------------------\u001b[0m",
      "\u001b[1;31mAttributeError\u001b[0m                            Traceback (most recent call last)",
      "\u001b[1;32m<ipython-input-68-a47864f4bcf2>\u001b[0m in \u001b[0;36m<module>\u001b[1;34m\u001b[0m\n\u001b[0;32m      2\u001b[0m \u001b[1;32mfrom\u001b[0m \u001b[0mscipy\u001b[0m \u001b[1;32mimport\u001b[0m \u001b[0mmisc\u001b[0m\u001b[1;33m\u001b[0m\u001b[1;33m\u001b[0m\u001b[0m\n\u001b[0;32m      3\u001b[0m \u001b[0mf\u001b[0m \u001b[1;33m=\u001b[0m \u001b[0mmisc\u001b[0m\u001b[1;33m.\u001b[0m\u001b[0mface\u001b[0m\u001b[1;33m(\u001b[0m\u001b[1;33m)\u001b[0m\u001b[1;33m\u001b[0m\u001b[1;33m\u001b[0m\u001b[0m\n\u001b[1;32m----> 4\u001b[1;33m \u001b[0mmisc\u001b[0m\u001b[1;33m.\u001b[0m\u001b[0mimsave\u001b[0m\u001b[1;33m(\u001b[0m\u001b[1;34m'face.png'\u001b[0m\u001b[1;33m,\u001b[0m \u001b[0mf\u001b[0m\u001b[1;33m)\u001b[0m \u001b[1;31m# uses the Image module (PIL)\u001b[0m\u001b[1;33m\u001b[0m\u001b[1;33m\u001b[0m\u001b[0m\n\u001b[0m\u001b[0;32m      5\u001b[0m \u001b[1;33m\u001b[0m\u001b[0m\n\u001b[0;32m      6\u001b[0m \u001b[1;32mimport\u001b[0m \u001b[0mmatplotlib\u001b[0m\u001b[1;33m.\u001b[0m\u001b[0mpyplot\u001b[0m \u001b[1;32mas\u001b[0m \u001b[0mplt\u001b[0m\u001b[1;33m\u001b[0m\u001b[1;33m\u001b[0m\u001b[0m\n",
      "\u001b[1;31mAttributeError\u001b[0m: module 'scipy.misc' has no attribute 'imsave'"
     ]
    }
   ],
   "source": [
    "%matplotlib inline\n",
    "from scipy import misc\n",
    "f = misc.face()\n",
    "misc.imsave('face.png', f) # uses the Image module (PIL)\n",
    "\n",
    "import matplotlib.pyplot as plt\n",
    "plt.imshow(f)\n",
    "plt.show()"
   ]
  },
  {
   "cell_type": "code",
   "execution_count": 67,
   "metadata": {},
   "outputs": [
    {
     "ename": "NameError",
     "evalue": "name 'plt' is not defined",
     "output_type": "error",
     "traceback": [
      "\u001b[1;31m---------------------------------------------------------------------------\u001b[0m",
      "\u001b[1;31mNameError\u001b[0m                                 Traceback (most recent call last)",
      "\u001b[1;32m<ipython-input-67-3bdf7182658b>\u001b[0m in \u001b[0;36m<module>\u001b[1;34m\u001b[0m\n\u001b[0;32m      1\u001b[0m \u001b[0mimbw\u001b[0m\u001b[1;33m=\u001b[0m \u001b[0mf\u001b[0m\u001b[1;33m[\u001b[0m\u001b[1;33m:\u001b[0m\u001b[1;33m,\u001b[0m\u001b[1;33m:\u001b[0m\u001b[1;33m,\u001b[0m\u001b[1;36m0\u001b[0m\u001b[1;33m]\u001b[0m\u001b[1;33m\u001b[0m\u001b[1;33m\u001b[0m\u001b[0m\n\u001b[1;32m----> 2\u001b[1;33m \u001b[0mplt\u001b[0m\u001b[1;33m.\u001b[0m\u001b[0mimshow\u001b[0m\u001b[1;33m(\u001b[0m\u001b[0mimbw\u001b[0m\u001b[1;33m,\u001b[0m\u001b[0mcmap\u001b[0m\u001b[1;33m=\u001b[0m\u001b[1;34m\"gray\"\u001b[0m\u001b[1;33m)\u001b[0m\u001b[1;33m\u001b[0m\u001b[1;33m\u001b[0m\u001b[0m\n\u001b[0m",
      "\u001b[1;31mNameError\u001b[0m: name 'plt' is not defined"
     ]
    }
   ],
   "source": [
    "imbw= f[:,:,0]\n",
    "plt.imshow(imbw,cmap=\"gray\")"
   ]
  },
  {
   "cell_type": "code",
   "execution_count": 141,
   "metadata": {},
   "outputs": [],
   "source": [
    "S,V,D=np.linalg.svd(imbw)\n",
    "V[101:-1]=0\n",
    "DD =np.diag(V)\n",
    "zz = np.zeros((768,1024-768))\n",
    "Vp = np.concatenate((DD,zz),axis=1)\n",
    "imbw_p = S.dot(Vp).dot(D)"
   ]
  },
  {
   "cell_type": "code",
   "execution_count": 1,
   "metadata": {},
   "outputs": [
    {
     "ename": "NameError",
     "evalue": "name 'plt' is not defined",
     "output_type": "error",
     "traceback": [
      "\u001b[1;31m---------------------------------------------------------------------------\u001b[0m",
      "\u001b[1;31mNameError\u001b[0m                                 Traceback (most recent call last)",
      "\u001b[1;32m<ipython-input-1-749626df1252>\u001b[0m in \u001b[0;36m<module>\u001b[1;34m\u001b[0m\n\u001b[1;32m----> 1\u001b[1;33m \u001b[0mplt\u001b[0m\u001b[1;33m.\u001b[0m\u001b[0mimshow\u001b[0m\u001b[1;33m(\u001b[0m\u001b[0mimbw_p\u001b[0m\u001b[1;33m,\u001b[0m\u001b[0mcmap\u001b[0m\u001b[1;33m=\u001b[0m\u001b[1;34m\"gray\"\u001b[0m\u001b[1;33m)\u001b[0m\u001b[1;33m\u001b[0m\u001b[1;33m\u001b[0m\u001b[0m\n\u001b[0m\u001b[0;32m      2\u001b[0m \u001b[1;33m\u001b[0m\u001b[0m\n\u001b[0;32m      3\u001b[0m \u001b[0mplt\u001b[0m\u001b[1;33m.\u001b[0m\u001b[0mshow\u001b[0m\u001b[1;33m(\u001b[0m\u001b[1;33m)\u001b[0m\u001b[1;33m\u001b[0m\u001b[1;33m\u001b[0m\u001b[0m\n\u001b[0;32m      4\u001b[0m \u001b[0mplt\u001b[0m\u001b[1;33m.\u001b[0m\u001b[0mimshow\u001b[0m\u001b[1;33m(\u001b[0m\u001b[0mimbw\u001b[0m\u001b[1;33m,\u001b[0m\u001b[0mcmap\u001b[0m\u001b[1;33m=\u001b[0m\u001b[1;34m\"gray\"\u001b[0m\u001b[1;33m)\u001b[0m\u001b[1;33m\u001b[0m\u001b[1;33m\u001b[0m\u001b[0m\n",
      "\u001b[1;31mNameError\u001b[0m: name 'plt' is not defined"
     ]
    }
   ],
   "source": [
    "plt.imshow(imbw_p,cmap=\"gray\")\n",
    "\n",
    "plt.show()\n",
    "plt.imshow(imbw,cmap=\"gray\")"
   ]
  },
  {
   "cell_type": "markdown",
   "metadata": {},
   "source": [
    "### The benefits of using NumPy instead of Python"
   ]
  },
  {
   "cell_type": "code",
   "execution_count": 143,
   "metadata": {},
   "outputs": [],
   "source": [
    "#Python Lists implementation\n",
    "def norm_square_list(vector):\n",
    "    norm = 0\n",
    "    for v in vector:\n",
    "        norm += v*v\n",
    "    return norm\n",
    "\n",
    "#Vectorized NumPy implementation\n",
    "def norm_square_numpy(vector):\n",
    "    return np.sum(vector * vector)\n",
    "\n",
    "#Vector to use - dimension 10^6\n",
    "vector = list(range(1000000))\n",
    "npvector = np.array(vector)"
   ]
  },
  {
   "cell_type": "code",
   "execution_count": 144,
   "metadata": {},
   "outputs": [
    {
     "name": "stdout",
     "output_type": "stream",
     "text": [
      "120 ms ± 9.08 ms per loop (mean ± std. dev. of 7 runs, 10 loops each)\n"
     ]
    }
   ],
   "source": [
    "%timeit norm_square_list(vector)"
   ]
  },
  {
   "cell_type": "code",
   "execution_count": 145,
   "metadata": {},
   "outputs": [
    {
     "name": "stdout",
     "output_type": "stream",
     "text": [
      "3.78 ms ± 292 µs per loop (mean ± std. dev. of 7 runs, 100 loops each)\n"
     ]
    }
   ],
   "source": [
    "%timeit norm_square_numpy(npvector)"
   ]
  },
  {
   "cell_type": "markdown",
   "metadata": {},
   "source": [
    "## 6.- Scientific Computing: `SciPy` \n",
    "<a href=\"http://www.scipy.org\">SciPy</a> provides a number of subpackages that deal with common operations in scientific computing, such as numerical integration, optimization, interpolation, Fourier transforms and linear algebra.\n",
    "#### Example 1: Numerical integration\n",
    "$$f(x)=\\int_0^{\\pi} x^3dx$$"
   ]
  },
  {
   "cell_type": "code",
   "execution_count": 146,
   "metadata": {},
   "outputs": [
    {
     "name": "stdout",
     "output_type": "stream",
     "text": [
      "24.35227275850061  +- 2.7036453918439354e-13\n"
     ]
    }
   ],
   "source": [
    "import scipy as sp\n",
    "import scipy.integrate as integrate\n",
    "\n",
    "def f(x):\n",
    "    return x**3\n",
    "\n",
    "ans, err = integrate.quad(f,0,np.pi)\n",
    "print(ans,' +-',err)"
   ]
  },
  {
   "cell_type": "markdown",
   "metadata": {},
   "source": [
    "#### Example 2: Solving an ODE numerically\n",
    "\n",
    "$$\n",
    "\\frac{dy}{dt} = f(y) = y^2 \\cdot \\sin(y) \\ \\ \\text{with} \\ \\ y(0) = y_0\n",
    "$$"
   ]
  },
  {
   "cell_type": "code",
   "execution_count": 152,
   "metadata": {},
   "outputs": [],
   "source": [
    "def f(y, t):\n",
    "    return y**2 * np.sin(y)\n",
    "\n",
    "ic = 1.\n",
    "times = np.linspace(0., 1., 100)\n",
    "sol = integrate.odeint(f, ic, times)"
   ]
  },
  {
   "cell_type": "code",
   "execution_count": 153,
   "metadata": {},
   "outputs": [
    {
     "data": {
      "image/png": "[encoded data removed]",
      "text/plain": [
       "<Figure size 720x288 with 1 Axes>"
      ]
     },
     "metadata": {
      "needs_background": "light"
     },
     "output_type": "display_data"
    }
   ],
   "source": [
    "plt.figure(figsize=(10,4))\n",
    "plt.plot(times, sol, 'ro-')\n",
    "plt.title('ODE evolution')\n",
    "plt.show()"
   ]
  },
  {
   "cell_type": "markdown",
   "metadata": {},
   "source": [
    "## 6.-  Matplotlib\n",
    "\n",
    "In the next section we will see how to do some of the most common tasks in __data visualization__, with `Matplotlib`.\n",
    "\n",
    "__The Matplotlib Philosophy:__ \n",
    "1. Configure the object to visualize through the `matplotlib.pyplot` API.\n",
    "2. Display the canvas and the created object with the `matplotlib.pyplot.show()` function.\n",
    "3. After the call to the `show()` function, `matplotlib.pyplot` reset the state of the _canvas_ to `None`."
   ]
  },
  {
   "cell_type": "code",
   "execution_count": 154,
   "metadata": {},
   "outputs": [],
   "source": [
    "import matplotlib.pyplot as plt"
   ]
  },
  {
   "cell_type": "markdown",
   "metadata": {},
   "source": [
    "There are different ways to display a plot in the Jupyter Notebook, by changing the backend that handles the plot. But __changing between backends in the same session doesn't work properly right now__, so it is recommended to restart the kernel every time you change the backend."
   ]
  },
  {
   "cell_type": "code",
   "execution_count": 155,
   "metadata": {},
   "outputs": [],
   "source": [
    "%matplotlib inline"
   ]
  },
  {
   "cell_type": "markdown",
   "metadata": {},
   "source": [
    "__Inline Mode:__ Figures created in this mode are converted to PNG images stored within the notebook .ipynb  les. This is convenient when sharing notebooks because the plots are viewable by other users. "
   ]
  },
  {
   "cell_type": "code",
   "execution_count": 156,
   "metadata": {},
   "outputs": [
    {
     "name": "stdout",
     "output_type": "stream",
     "text": [
      "Available matplotlib backends: ['tk', 'gtk', 'gtk3', 'wx', 'qt4', 'qt5', 'qt', 'osx', 'nbagg', 'notebook', 'agg', 'svg', 'pdf', 'ps', 'inline', 'ipympl', 'widget']\n"
     ]
    }
   ],
   "source": [
    "%matplotlib --list"
   ]
  },
  {
   "cell_type": "markdown",
   "metadata": {},
   "source": [
    "### Simple plots\n",
    "<font color='red'>HANDS ON SECTION!</font>"
   ]
  },
  {
   "cell_type": "code",
   "execution_count": 159,
   "metadata": {},
   "outputs": [
    {
     "data": {
      "image/png": "[encoded data removed]",
      "text/plain": [
       "<Figure size 432x288 with 1 Axes>"
      ]
     },
     "metadata": {
      "needs_background": "light"
     },
     "output_type": "display_data"
    }
   ],
   "source": [
    "x = np.arange(0, 2*np.pi, 0.1)\n",
    "y = np.sin(x)\n",
    "z = np.cos(x)\n",
    "plt.plot(x,y,label=\"sin\")\n",
    "plt.plot(x,z,label=\"cos\")\n",
    "plt.legend()\n",
    "plt.show()"
   ]
  },
  {
   "cell_type": "code",
   "execution_count": 161,
   "metadata": {
    "scrolled": true
   },
   "outputs": [
    {
     "data": {
      "image/png": "[encoded data removed]",
      "text/plain": [
       "<Figure size 1080x360 with 1 Axes>"
      ]
     },
     "metadata": {
      "needs_background": "light"
     },
     "output_type": "display_data"
    }
   ],
   "source": [
    "plt.figure(figsize=(15,5))\n",
    "plt.plot(x, y, 'o--', lw=4, color='green', mfc='red', ms=7)\n",
    "plt.title(\"Example plot\")\n",
    "plt.xlabel(\"x\")\n",
    "plt.ylabel(\"y(x)\")\n",
    "plt.grid()\n",
    "plt.show()"
   ]
  },
  {
   "cell_type": "code",
   "execution_count": 162,
   "metadata": {},
   "outputs": [],
   "source": [
    "plt.plot?"
   ]
  },
  {
   "cell_type": "markdown",
   "metadata": {},
   "source": [
    "### Scatter plot"
   ]
  },
  {
   "cell_type": "code",
   "execution_count": 163,
   "metadata": {},
   "outputs": [
    {
     "data": {
      "image/png": "[encoded data removed]",
      "text/plain": [
       "<Figure size 432x288 with 1 Axes>"
      ]
     },
     "metadata": {
      "needs_background": "light"
     },
     "output_type": "display_data"
    }
   ],
   "source": [
    "x = np.random.randn(100)\n",
    "y = np.random.randn(100)\n",
    "\n",
    "plt.scatter(x, y, marker='o', s=25)\n",
    "plt.grid()\n",
    "plt.xlabel('x coordinate')\n",
    "plt.ylabel('y coordinate')\n",
    "plt.title('Scatter plot')\n",
    "plt.xlim(-3,3)\n",
    "plt.ylim(-3,3)\n",
    "plt.show()"
   ]
  },
  {
   "cell_type": "markdown",
   "metadata": {},
   "source": [
    "### Histogram plot"
   ]
  },
  {
   "cell_type": "code",
   "execution_count": 164,
   "metadata": {},
   "outputs": [
    {
     "data": {
      "image/png": "[encoded data removed]",
      "text/plain": [
       "<Figure size 432x432 with 1 Axes>"
      ]
     },
     "metadata": {
      "needs_background": "light"
     },
     "output_type": "display_data"
    }
   ],
   "source": [
    "n_samples = 25000\n",
    "#x = np.random.rand(n_samples)\n",
    "x = np.random.randn(n_samples)\n",
    "\n",
    "plt.figure(figsize=(6,6))\n",
    "plt.hist(x, bins=50, facecolor='seagreen', edgecolor='black', lw=2)\n",
    "plt.title(\"Empirical Standard Distribution\")\n",
    "plt.xlabel(\"x random variable\")\n",
    "plt.ylabel(\"frequency\")\n",
    "plt.show()"
   ]
  },
  {
   "cell_type": "markdown",
   "metadata": {},
   "source": [
    "### Image visualization\n",
    "<font color='red'>HANDS ON SECTION!</font>"
   ]
  },
  {
   "cell_type": "code",
   "execution_count": 165,
   "metadata": {
    "scrolled": true
   },
   "outputs": [
    {
     "name": "stdout",
     "output_type": "stream",
     "text": [
      "(547, 650, 3)\n"
     ]
    }
   ],
   "source": [
    "# we first load the image\n",
    "import matplotlib.image as mpimg\n",
    "\n",
    "img = mpimg.imread('ml-think.png')\n",
    "print(img.shape)"
   ]
  },
  {
   "cell_type": "code",
   "execution_count": 166,
   "metadata": {},
   "outputs": [
    {
     "data": {
      "image/png": "[encoded data removed]",
      "text/plain": [
       "<Figure size 504x504 with 1 Axes>"
      ]
     },
     "metadata": {
      "needs_background": "light"
     },
     "output_type": "display_data"
    }
   ],
   "source": [
    "plt.figure(figsize=(7,7))\n",
    "plt.imshow(img)\n",
    "plt.axis('off')\n",
    "plt.show()º"
   ]
  },
  {
   "cell_type": "markdown",
   "metadata": {},
   "source": [
    "## 7.- Interactive Visualization with `interact` IPython widget\n",
    "\n",
    "The `interact` function (`ipywidgets.interact`) automatically creates a user interface (UI) controls for exploring code and data interactively. It is the __easiest way__ to get started using IPython’s widgets."
   ]
  },
  {
   "cell_type": "code",
   "execution_count": 167,
   "metadata": {},
   "outputs": [],
   "source": [
    "from ipywidgets import interact, IntSlider, FloatSlider"
   ]
  },
  {
   "cell_type": "markdown",
   "metadata": {},
   "source": [
    "At the most basic level, `interact` autogenerates UI controls for function arguments, and then __calls the function__ with those arguments when you manipulate the controls interactively. To use `interact`\n",
    ", you __need to define a function that you want to explore__. Here is a function that prints its only argument x."
   ]
  },
  {
   "cell_type": "code",
   "execution_count": 168,
   "metadata": {},
   "outputs": [],
   "source": [
    "def f(x):\n",
    "    return x"
   ]
  },
  {
   "cell_type": "markdown",
   "metadata": {},
   "source": [
    "* __Checkbox:__ If you pass True or False, interact will generate a checkbox:"
   ]
  },
  {
   "cell_type": "code",
   "execution_count": 169,
   "metadata": {},
   "outputs": [
    {
     "data": {
      "application/vnd.jupyter.widget-view+json": {
       "model_id": "1c4895759b9044659836d36e88f49798",
       "version_major": 2,
       "version_minor": 0
      },
      "text/plain": [
       "interactive(children=(Checkbox(value=True, description='x'), Output()), _dom_classes=('widget-interact',))"
      ]
     },
     "metadata": {},
     "output_type": "display_data"
    }
   ],
   "source": [
    "interact(f, x=True);"
   ]
  },
  {
   "cell_type": "markdown",
   "metadata": {},
   "source": [
    "* __Textbox:__  If you pass a string, `interact` will generate a text area box:"
   ]
  },
  {
   "cell_type": "code",
   "execution_count": 170,
   "metadata": {},
   "outputs": [
    {
     "data": {
      "application/vnd.jupyter.widget-view+json": {
       "model_id": "f85c42de390d4b33a37d1078162c638c",
       "version_major": 2,
       "version_minor": 0
      },
      "text/plain": [
       "interactive(children=(Text(value='hi there!', description='x'), Output()), _dom_classes=('widget-interact',))"
      ]
     },
     "metadata": {},
     "output_type": "display_data"
    }
   ],
   "source": [
    "interact(f, x='hi there!');"
   ]
  },
  {
   "cell_type": "markdown",
   "metadata": {},
   "source": [
    "* __IntSlider__: When you pass an integer-valued keyword argument of 10 (x=10) to interact, it generates an integer-valued slider control with a range of [-10,+3*10]."
   ]
  },
  {
   "cell_type": "code",
   "execution_count": 171,
   "metadata": {},
   "outputs": [
    {
     "data": {
      "application/vnd.jupyter.widget-view+json": {
       "model_id": "e27f6e97f9134403b755e2f69f035667",
       "version_major": 2,
       "version_minor": 0
      },
      "text/plain": [
       "interactive(children=(IntSlider(value=10, description='x', max=30, min=-10), Output()), _dom_classes=('widget-…"
      ]
     },
     "metadata": {},
     "output_type": "display_data"
    }
   ],
   "source": [
    "interact(f, x=10);"
   ]
  },
  {
   "cell_type": "markdown",
   "metadata": {},
   "source": [
    "In this case, 10 is an abbreviation for an actual slider widget:"
   ]
  },
  {
   "cell_type": "code",
   "execution_count": 172,
   "metadata": {},
   "outputs": [
    {
     "data": {
      "application/vnd.jupyter.widget-view+json": {
       "model_id": "6f5c51d949704f3cb30c1885c2cad894",
       "version_major": 2,
       "version_minor": 0
      },
      "text/plain": [
       "IntSlider(value=10, max=30, min=-10)"
      ]
     },
     "metadata": {},
     "output_type": "display_data"
    }
   ],
   "source": [
    "IntSlider(min=-10,max=30,step=1,value=10)"
   ]
  },
  {
   "cell_type": "code",
   "execution_count": 173,
   "metadata": {},
   "outputs": [
    {
     "data": {
      "application/vnd.jupyter.widget-view+json": {
       "model_id": "3220c1b19af4426f8e752fe3a3239aa1",
       "version_major": 2,
       "version_minor": 0
      },
      "text/plain": [
       "interactive(children=(IntSlider(value=10, description='x', max=30, min=-10), Output()), _dom_classes=('widget-…"
      ]
     },
     "metadata": {},
     "output_type": "display_data"
    }
   ],
   "source": [
    "interact(f, x=IntSlider(min=-10,max=30,step=1,value=10));"
   ]
  },
  {
   "cell_type": "markdown",
   "metadata": {},
   "source": [
    "but you can also use this abbreviation in order to avoid instantiating `IntSlider` by yourself:"
   ]
  },
  {
   "cell_type": "code",
   "execution_count": 174,
   "metadata": {},
   "outputs": [
    {
     "data": {
      "application/vnd.jupyter.widget-view+json": {
       "model_id": "316f6cdec07c4e9b9c61d6a040f5af5c",
       "version_major": 2,
       "version_minor": 0
      },
      "text/plain": [
       "interactive(children=(IntSlider(value=0, description='x', max=50, min=-50, step=2), Output()), _dom_classes=('…"
      ]
     },
     "metadata": {},
     "output_type": "display_data"
    }
   ],
   "source": [
    "interact(f, x=(-50,50,2));"
   ]
  },
  {
   "cell_type": "markdown",
   "metadata": {},
   "source": [
    "* __FloatSlider__: The same applies also for float arguments with the sliders:"
   ]
  },
  {
   "cell_type": "code",
   "execution_count": 175,
   "metadata": {},
   "outputs": [
    {
     "data": {
      "application/vnd.jupyter.widget-view+json": {
       "model_id": "162be4c4ead54fe284a43a045b507ea8",
       "version_major": 2,
       "version_minor": 0
      },
      "text/plain": [
       "interactive(children=(FloatSlider(value=0.0, description='x', max=7.0, min=-2.0), Output()), _dom_classes=('wi…"
      ]
     },
     "metadata": {},
     "output_type": "display_data"
    }
   ],
   "source": [
    "interact(f, x=FloatSlider(min=-2., max=7., step=0.1, value=0.));"
   ]
  },
  {
   "cell_type": "code",
   "execution_count": 176,
   "metadata": {},
   "outputs": [
    {
     "data": {
      "application/vnd.jupyter.widget-view+json": {
       "model_id": "586380eda248455fa071ddc009f7ae3f",
       "version_major": 2,
       "version_minor": 0
      },
      "text/plain": [
       "interactive(children=(FloatSlider(value=2.5, description='x', max=7.0, min=-2.0), Output()), _dom_classes=('wi…"
      ]
     },
     "metadata": {},
     "output_type": "display_data"
    }
   ],
   "source": [
    "interact(f, x=(-2., 7., 0.1));"
   ]
  },
  {
   "cell_type": "markdown",
   "metadata": {},
   "source": [
    "* __Dropdown:__ If you pass a list or a dictionary, then it will generate a dropdown widget:"
   ]
  },
  {
   "cell_type": "code",
   "execution_count": 177,
   "metadata": {},
   "outputs": [
    {
     "data": {
      "application/vnd.jupyter.widget-view+json": {
       "model_id": "0e52cf721bb045efb513c4992491d121",
       "version_major": 2,
       "version_minor": 0
      },
      "text/plain": [
       "interactive(children=(Dropdown(description='x', options=('orange', 'apple'), value='orange'), Output()), _dom_…"
      ]
     },
     "metadata": {},
     "output_type": "display_data"
    }
   ],
   "source": [
    "interact(f, x=['orange', 'apple']);"
   ]
  },
  {
   "cell_type": "code",
   "execution_count": 178,
   "metadata": {},
   "outputs": [
    {
     "data": {
      "application/vnd.jupyter.widget-view+json": {
       "model_id": "817a1c31e8804105b50416b24d391441",
       "version_major": 2,
       "version_minor": 0
      },
      "text/plain": [
       "interactive(children=(Dropdown(description='x', options={1: 'orange', 2: 'apple'}, value='orange'), Output()),…"
      ]
     },
     "metadata": {},
     "output_type": "display_data"
    }
   ],
   "source": [
    "interact(f, x={1:'orange', 2:'apple'});"
   ]
  },
  {
   "cell_type": "markdown",
   "metadata": {},
   "source": [
    "### Fixing arguments using `fixed`\n",
    "\n",
    "There are times when you may want to explore a function using interact, but fix one or more of its arguments to specific values. This can be accomplished by wrapping values with the `fixed` function."
   ]
  },
  {
   "cell_type": "code",
   "execution_count": 179,
   "metadata": {},
   "outputs": [],
   "source": [
    "from ipywidgets import fixed"
   ]
  },
  {
   "cell_type": "code",
   "execution_count": 180,
   "metadata": {},
   "outputs": [],
   "source": [
    "def h(p, q):\n",
    "    return (p, q)"
   ]
  },
  {
   "cell_type": "code",
   "execution_count": 181,
   "metadata": {},
   "outputs": [
    {
     "data": {
      "application/vnd.jupyter.widget-view+json": {
       "model_id": "7396b6273a1d4ca7a2a2c50aa4b369fb",
       "version_major": 2,
       "version_minor": 0
      },
      "text/plain": [
       "interactive(children=(IntSlider(value=5, description='p', max=15, min=-5), IntSlider(value=1, description='q',…"
      ]
     },
     "metadata": {},
     "output_type": "display_data"
    }
   ],
   "source": [
    "interact(h, p=5, q=1);"
   ]
  },
  {
   "cell_type": "code",
   "execution_count": 182,
   "metadata": {},
   "outputs": [
    {
     "data": {
      "application/vnd.jupyter.widget-view+json": {
       "model_id": "36002d86ca244b66bd54b3a076c157ce",
       "version_major": 2,
       "version_minor": 0
      },
      "text/plain": [
       "interactive(children=(IntSlider(value=5, description='p', max=15, min=-5), Output()), _dom_classes=('widget-in…"
      ]
     },
     "metadata": {},
     "output_type": "display_data"
    }
   ],
   "source": [
    "interact(h, p=5, q=fixed(10));"
   ]
  },
  {
   "cell_type": "markdown",
   "metadata": {},
   "source": [
    "### Using `interact` for visualization\n",
    "\n",
    "Now with all your knowledge of __`matplotlib`__ and __`interact`__ you have all what you need to perform __interactive visualization__!\n",
    "\n",
    "In this section we will use this tools to perform interactive data visualization over a __3D spectroscopic data line cube__ of  __Orion Nebulae__. We first load the data:"
   ]
  },
  {
   "cell_type": "code",
   "execution_count": 183,
   "metadata": {},
   "outputs": [
    {
     "name": "stdout",
     "output_type": "stream",
     "text": [
      "--2019-03-18 11:12:21--  http://alumnos.inf.utfsm.cl/~mavillan/press/orion.npy\n",
      "Resolving alumnos.inf.utfsm.cl... 204.87.169.27\n",
      "Connecting to alumnos.inf.utfsm.cl|204.87.169.27|:80... connected.\n",
      "HTTP request sent, awaiting response... 302 Found\n",
      "Location: http://mavillan.pag.alumnos.inf.utfsm.cl/press/orion.npy [following]\n",
      "--2019-03-18 11:12:21--  http://mavillan.pag.alumnos.inf.utfsm.cl/press/orion.npy\n",
      "Resolving mavillan.pag.alumnos.inf.utfsm.cl... 204.87.169.27\n",
      "Reusing existing connection to alumnos.inf.utfsm.cl:80.\n",
      "HTTP request sent, awaiting response... 200 OK\n",
      "Length: 1640080 (1.6M)\n",
      "Saving to: ‘orion.npy.1’\n",
      "\n",
      "100%[======================================>] 1,640,080    354KB/s   in 4.5s   \n",
      "\n",
      "2019-03-18 11:12:26 (357 KB/s) - ‘orion.npy.1’ saved [1640080/1640080]\n",
      "\n"
     ]
    }
   ],
   "source": [
    "!wget http://alumnos.inf.utfsm.cl/~mavillan/press/orion.npy"
   ]
  },
  {
   "cell_type": "code",
   "execution_count": 184,
   "metadata": {},
   "outputs": [
    {
     "name": "stdout",
     "output_type": "stream",
     "text": [
      "Shape: (41, 100, 100)\n",
      "Data type: >f4\n"
     ]
    }
   ],
   "source": [
    "data = np.load(\"orion.npy\")\n",
    "print('Shape:', data.shape)\n",
    "print('Data type:', data.dtype)"
   ]
  },
  {
   "cell_type": "markdown",
   "metadata": {},
   "source": [
    "The `axis0` is for frequency and the other two are for spatial coordinates. We want to see images of the slices in the frequency axis, in a interactive way.\n",
    "\n",
    "For that we need to define the corresponding function to pass to `interact`:"
   ]
  },
  {
   "cell_type": "code",
   "execution_count": 185,
   "metadata": {},
   "outputs": [],
   "source": [
    "def slice_show(data, i):\n",
    "    plt.figure(figsize=(8,8))\n",
    "    plt.imshow(data[i,:,:], cmap='afmhot', vmin=0., vmax=1.)\n",
    "    plt.grid()\n",
    "    plt.xlabel('x coordinate')\n",
    "    plt.ylabel('y coordinate')\n",
    "    plt.show()"
   ]
  },
  {
   "cell_type": "code",
   "execution_count": 186,
   "metadata": {},
   "outputs": [
    {
     "data": {
      "application/vnd.jupyter.widget-view+json": {
       "model_id": "f0eceecf806448adb0d7168f9ee064b3",
       "version_major": 2,
       "version_minor": 0
      },
      "text/plain": [
       "interactive(children=(IntSlider(value=20, description='i', max=40), Output()), _dom_classes=('widget-interact'…"
      ]
     },
     "metadata": {},
     "output_type": "display_data"
    }
   ],
   "source": [
    "interact(slice_show, data=fixed(data), i=(0,40));"
   ]
  },
  {
   "cell_type": "markdown",
   "metadata": {},
   "source": [
    "__Let's improve the interactivity!__"
   ]
  },
  {
   "cell_type": "code",
   "execution_count": 2,
   "metadata": {},
   "outputs": [],
   "source": [
    "def slice_show2(data, i, title='', show_colorbar=False, colormap='afmthot'):\n",
    "    plt.figure(figsize=(8,8))\n",
    "    plt.imshow(data[i,:,:], cmap=colormap, vmin=0., vmax=1.)\n",
    "    plt.grid()\n",
    "    plt.title(title)\n",
    "    plt.xlabel('x coordinate')\n",
    "    plt.ylabel('y coordinate')\n",
    "    if show_colorbar: plt.colorbar()\n",
    "    plt.show()"
   ]
  },
  {
   "cell_type": "code",
   "execution_count": 3,
   "metadata": {},
   "outputs": [
    {
     "ename": "NameError",
     "evalue": "name 'interact' is not defined",
     "output_type": "error",
     "traceback": [
      "\u001b[1;31m---------------------------------------------------------------------------\u001b[0m",
      "\u001b[1;31mNameError\u001b[0m                                 Traceback (most recent call last)",
      "\u001b[1;32m<ipython-input-3-39bd15521fd0>\u001b[0m in \u001b[0;36m<module>\u001b[1;34m\u001b[0m\n\u001b[0;32m      3\u001b[0m \u001b[0mcolormap_list\u001b[0m \u001b[1;33m=\u001b[0m \u001b[1;33m[\u001b[0m\u001b[1;34m'afmhot'\u001b[0m\u001b[1;33m,\u001b[0m\u001b[1;34m'gray'\u001b[0m\u001b[1;33m,\u001b[0m\u001b[1;34m'plasma'\u001b[0m\u001b[1;33m,\u001b[0m\u001b[1;34m'inferno'\u001b[0m\u001b[1;33m,\u001b[0m\u001b[1;34m'copper'\u001b[0m\u001b[1;33m,\u001b[0m\u001b[1;34m'gist_heat'\u001b[0m\u001b[1;33m,\u001b[0m\u001b[1;34m'jet'\u001b[0m\u001b[1;33m,\u001b[0m\u001b[1;33m]\u001b[0m\u001b[1;33m\u001b[0m\u001b[1;33m\u001b[0m\u001b[0m\n\u001b[0;32m      4\u001b[0m \u001b[1;33m\u001b[0m\u001b[0m\n\u001b[1;32m----> 5\u001b[1;33m interact(slice_show2, data=fixed(data), i=(0,40), title='Orion Nebulae', \\\n\u001b[0m\u001b[0;32m      6\u001b[0m          show_colorbar=False, colormap=colormap_list);\n",
      "\u001b[1;31mNameError\u001b[0m: name 'interact' is not defined"
     ]
    }
   ],
   "source": [
    "# full list of available colormaps:\n",
    "# https://matplotlib.org/examples/color/colormaps_reference.html\n",
    "colormap_list = ['afmhot','gray','plasma','inferno','copper','gist_heat','jet',]\n",
    "\n",
    "interact(slice_show2, data=fixed(data), i=(0,40), title='Orion Nebulae', \\\n",
    "         show_colorbar=False, colormap=colormap_list);"
   ]
  },
  {
   "cell_type": "markdown",
   "metadata": {},
   "source": [
    "Finally we will use the _Scikit-image_ library to extend our interactive visualization, by adding image processing over each slice of the cube, applying different filters/kernels to the image:"
   ]
  },
  {
   "cell_type": "code",
   "execution_count": 4,
   "metadata": {},
   "outputs": [],
   "source": [
    "def slice_show3(data, i, title='', show_colorbar=False, colormap='afmthot', img_filter=None):\n",
    "    if img_filter is not None:\n",
    "        _data = np.empty(data.shape)\n",
    "        for j in range(data.shape[0]):\n",
    "            _data[i,:,:] = img_filter(data[i,:,:])\n",
    "        data = _data\n",
    "        \n",
    "    plt.figure(figsize=(8,8))\n",
    "    plt.imshow(data[i,:,:], cmap=colormap, vmin=data.min(), vmax=data.max())\n",
    "    plt.grid()\n",
    "    plt.title(title)\n",
    "    plt.xlabel('x coordinate')\n",
    "    plt.ylabel('y coordinate')\n",
    "    if show_colorbar: plt.colorbar()\n",
    "    plt.show()"
   ]
  },
  {
   "cell_type": "code",
   "execution_count": 5,
   "metadata": {},
   "outputs": [],
   "source": [
    "from skimage import filters\n",
    "\n",
    "# dictionary with the kernel to be used\n",
    "filters = {'none':None, 'gaussian':filters.gaussian, 'hessian':filters.hessian, 'laplace':filters.laplace, \\\n",
    "           'sobel':filters.sobel, 'frangi':filters.frangi, 'median':filters.median, 'prewitt':filters.prewitt}\n",
    "\n",
    "# full list of available filters:\n",
    "# http://scikit-image.org/docs/dev/api/skimage.filters.html"
   ]
  },
  {
   "cell_type": "code",
   "execution_count": 6,
   "metadata": {},
   "outputs": [
    {
     "ename": "NameError",
     "evalue": "name 'interact' is not defined",
     "output_type": "error",
     "traceback": [
      "\u001b[1;31m---------------------------------------------------------------------------\u001b[0m",
      "\u001b[1;31mNameError\u001b[0m                                 Traceback (most recent call last)",
      "\u001b[1;32m<ipython-input-6-ee4ab9cc638a>\u001b[0m in \u001b[0;36m<module>\u001b[1;34m\u001b[0m\n\u001b[1;32m----> 1\u001b[1;33m interact(slice_show3, data=fixed(data), i=(0,40), title='Orion Nebulae', \\\n\u001b[0m\u001b[0;32m      2\u001b[0m          show_colorbar=False, colormap=colormap_list, img_filter=filters);\n",
      "\u001b[1;31mNameError\u001b[0m: name 'interact' is not defined"
     ]
    }
   ],
   "source": [
    "interact(slice_show3, data=fixed(data), i=(0,40), title='Orion Nebulae', \\\n",
    "         show_colorbar=False, colormap=colormap_list, img_filter=filters);"
   ]
  },
  {
   "cell_type": "markdown",
   "metadata": {
    "collapsed": true
   },
   "source": [
    "## Additional Advanded Libraries\n",
    "\n",
    "### Scikit-learn\n",
    "\n",
    "<a href=\"http://scikit-learn.org\">scikit-learn</a> provides algorithms for machine learning tasks, such as classification, regression, and clustering, as well as associated operations, such as cross-validation and feature normalization.\n",
    "\n",
    "### Cython \n",
    "__Cython__ is both a __Superset of Python__ and a __Python Library__ that lets you combine C and Python in various ways. There are two main use-cases: Optimizing your Python code by statically compiling it to C, and Wrapping a C/C++ library in Python.\n",
    "\n",
    "### Numba\n",
    "Numba gives you the power to speed up your applications with high performance functions written directly in Python. With a few annotations, array-oriented and math-heavy Python code can be just-in-time compiled to native machine instructions, similar in performance to C, C++ and Fortran, without having to switch languages or Python interpreters (__Just in Time Compilation__).\n",
    "\n",
    "\n",
    "### Pandas\n",
    "<a href=\"http://pandas.pydata.org/index.html\">Pandas</a> offers data structures, particularly data frames, and operations for manipulating numerical tables and time series, such as fancy indexing, reshaping and pivoting, and merging, as well as a number of analysis tools. Although similar functionality already exists in numpy, pandas is highly optimized for performance and large data sets.  Some of these topics will be covered in greater depth in Mauricio San Martin's talk <a href=\"placeholder\">here</a>.\n"
   ]
  },
  {
   "cell_type": "code",
   "execution_count": null,
   "metadata": {},
   "outputs": [],
   "source": []
  },
  {
   "cell_type": "code",
   "execution_count": null,
   "metadata": {},
   "outputs": [],
   "source": []
  },
  {
   "cell_type": "code",
   "execution_count": null,
   "metadata": {},
   "outputs": [],
   "source": []
  }
 ],
 "metadata": {
  "anaconda-cloud": {},
  "kernelspec": {
   "display_name": "Python 3",
   "language": "python",
   "name": "python3"
  },
  "language_info": {
   "codemirror_mode": {
    "name": "ipython",
    "version": 3
   },
   "file_extension": ".py",
   "mimetype": "text/x-python",
   "name": "python",
   "nbconvert_exporter": "python",
   "pygments_lexer": "ipython3",
   "version": "3.7.6"
  }
 },
 "nbformat": 4,
 "nbformat_minor": 4
}
