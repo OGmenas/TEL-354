{
 "cells": [
  {
   "cell_type": "markdown",
   "metadata": {},
   "source": [
    "# 6 - Supervised Learning and Regression\n",
    "Mauricio Araya\n",
    "\n",
    "Acknowledgments to Francisco Förster Burón (CMM-U.Chile / MAS) work\n",
    "\n"
   ]
  },
  {
   "cell_type": "code",
   "execution_count": 139,
   "metadata": {
    "ExecuteTime": {
     "end_time": "2018-08-22T04:18:38.043288Z",
     "start_time": "2018-08-22T04:18:38.034803Z"
    },
    "scrolled": true
   },
   "outputs": [
    {
     "data": {
      "text/html": [
       "<style>.container { width:100% !important; }</style>"
      ],
      "text/plain": [
       "<IPython.core.display.HTML object>"
      ]
     },
     "metadata": {},
     "output_type": "display_data"
    }
   ],
   "source": [
    "from IPython.core.display import display, HTML\n",
    "display(HTML(\"<style>.container { width:100% !important; }</style>\"))"
   ]
  },
  {
   "cell_type": "markdown",
   "metadata": {},
   "source": [
    "## Overfitting, underfitting and the bias-variance trade-off\n",
    "\n",
    "\n",
    "Two important ideas in machine learning are **overfitting** and **underfitting**.\n",
    "\n",
    "If a model represents our data too accurately, it may not generalize well to unobserved data.\n",
    "\n",
    "A popular solution to reduce overfitting  consists of adding structure to the model through **regularization**. This favors simpler models through training inspired by **Occam's razor**.\n",
    "\n",
    "## Bias\n",
    "\n",
    "It quantifies the precision of the model accross the training sets.\n",
    "\n",
    "## Variance \n",
    "\n",
    "It quantifies how sensitive the model is to small changes in the training set."
   ]
  },
  {
   "cell_type": "markdown",
   "metadata": {},
   "source": [
    "![](images/biasvariance.png)"
   ]
  },
  {
   "cell_type": "markdown",
   "metadata": {},
   "source": [
    "## Complexity, accuracy, robustness\n",
    "\n",
    "In general, we want precise and robust models. \n",
    "\n",
    "**Simpler models tend to be less accurate, but more robust.**\n",
    "\n",
    "**More complex models tend to be more accurate, but less robust.**\n",
    "\n",
    "This tension is usually expressed as the **bias-variance trade-off** which is central to machine learning"
   ]
  },
  {
   "cell_type": "markdown",
   "metadata": {},
   "source": [
    "## Model selection\n",
    "\n",
    "No model performs uniformly better than the others. One model may perform better in one data set and badly on another."
   ]
  },
  {
   "cell_type": "markdown",
   "metadata": {},
   "source": [
    "## Classification vs regression"
   ]
  },
  {
   "cell_type": "markdown",
   "metadata": {},
   "source": [
    "![](images/ml.png)"
   ]
  },
  {
   "cell_type": "markdown",
   "metadata": {},
   "source": [
    "## 1 - Regularized Regression in 1D (slides)"
   ]
  },
  {
   "cell_type": "markdown",
   "metadata": {},
   "source": [
    "### Example training set: the iris data set\n",
    "\n",
    "![title](images/iris.png)\n",
    "\n",
    "![title](images/irises.png)"
   ]
  },
  {
   "cell_type": "code",
   "execution_count": 4,
   "metadata": {},
   "outputs": [
    {
     "data": {
      "text/html": [
       "<div>\n",
       "<style scoped>\n",
       "    .dataframe tbody tr th:only-of-type {\n",
       "        vertical-align: middle;\n",
       "    }\n",
       "\n",
       "    .dataframe tbody tr th {\n",
       "        vertical-align: top;\n",
       "    }\n",
       "\n",
       "    .dataframe thead th {\n",
       "        text-align: right;\n",
       "    }\n",
       "</style>\n",
       "<table border=\"1\" class=\"dataframe\">\n",
       "  <thead>\n",
       "    <tr style=\"text-align: right;\">\n",
       "      <th></th>\n",
       "      <th>sepal_length</th>\n",
       "      <th>sepal_width</th>\n",
       "      <th>petal_length</th>\n",
       "      <th>petal_width</th>\n",
       "      <th>species</th>\n",
       "    </tr>\n",
       "  </thead>\n",
       "  <tbody>\n",
       "    <tr>\n",
       "      <th>0</th>\n",
       "      <td>5.1</td>\n",
       "      <td>3.5</td>\n",
       "      <td>1.4</td>\n",
       "      <td>0.2</td>\n",
       "      <td>setosa</td>\n",
       "    </tr>\n",
       "    <tr>\n",
       "      <th>1</th>\n",
       "      <td>4.9</td>\n",
       "      <td>3.0</td>\n",
       "      <td>1.4</td>\n",
       "      <td>0.2</td>\n",
       "      <td>setosa</td>\n",
       "    </tr>\n",
       "    <tr>\n",
       "      <th>2</th>\n",
       "      <td>4.7</td>\n",
       "      <td>3.2</td>\n",
       "      <td>1.3</td>\n",
       "      <td>0.2</td>\n",
       "      <td>setosa</td>\n",
       "    </tr>\n",
       "    <tr>\n",
       "      <th>3</th>\n",
       "      <td>4.6</td>\n",
       "      <td>3.1</td>\n",
       "      <td>1.5</td>\n",
       "      <td>0.2</td>\n",
       "      <td>setosa</td>\n",
       "    </tr>\n",
       "    <tr>\n",
       "      <th>4</th>\n",
       "      <td>5.0</td>\n",
       "      <td>3.6</td>\n",
       "      <td>1.4</td>\n",
       "      <td>0.2</td>\n",
       "      <td>setosa</td>\n",
       "    </tr>\n",
       "    <tr>\n",
       "      <th>5</th>\n",
       "      <td>5.4</td>\n",
       "      <td>3.9</td>\n",
       "      <td>1.7</td>\n",
       "      <td>0.4</td>\n",
       "      <td>setosa</td>\n",
       "    </tr>\n",
       "    <tr>\n",
       "      <th>6</th>\n",
       "      <td>4.6</td>\n",
       "      <td>3.4</td>\n",
       "      <td>1.4</td>\n",
       "      <td>0.3</td>\n",
       "      <td>setosa</td>\n",
       "    </tr>\n",
       "    <tr>\n",
       "      <th>7</th>\n",
       "      <td>5.0</td>\n",
       "      <td>3.4</td>\n",
       "      <td>1.5</td>\n",
       "      <td>0.2</td>\n",
       "      <td>setosa</td>\n",
       "    </tr>\n",
       "    <tr>\n",
       "      <th>8</th>\n",
       "      <td>4.4</td>\n",
       "      <td>2.9</td>\n",
       "      <td>1.4</td>\n",
       "      <td>0.2</td>\n",
       "      <td>setosa</td>\n",
       "    </tr>\n",
       "    <tr>\n",
       "      <th>9</th>\n",
       "      <td>4.9</td>\n",
       "      <td>3.1</td>\n",
       "      <td>1.5</td>\n",
       "      <td>0.1</td>\n",
       "      <td>setosa</td>\n",
       "    </tr>\n",
       "    <tr>\n",
       "      <th>10</th>\n",
       "      <td>5.4</td>\n",
       "      <td>3.7</td>\n",
       "      <td>1.5</td>\n",
       "      <td>0.2</td>\n",
       "      <td>setosa</td>\n",
       "    </tr>\n",
       "    <tr>\n",
       "      <th>11</th>\n",
       "      <td>4.8</td>\n",
       "      <td>3.4</td>\n",
       "      <td>1.6</td>\n",
       "      <td>0.2</td>\n",
       "      <td>setosa</td>\n",
       "    </tr>\n",
       "    <tr>\n",
       "      <th>12</th>\n",
       "      <td>4.8</td>\n",
       "      <td>3.0</td>\n",
       "      <td>1.4</td>\n",
       "      <td>0.1</td>\n",
       "      <td>setosa</td>\n",
       "    </tr>\n",
       "    <tr>\n",
       "      <th>13</th>\n",
       "      <td>4.3</td>\n",
       "      <td>3.0</td>\n",
       "      <td>1.1</td>\n",
       "      <td>0.1</td>\n",
       "      <td>setosa</td>\n",
       "    </tr>\n",
       "    <tr>\n",
       "      <th>14</th>\n",
       "      <td>5.8</td>\n",
       "      <td>4.0</td>\n",
       "      <td>1.2</td>\n",
       "      <td>0.2</td>\n",
       "      <td>setosa</td>\n",
       "    </tr>\n",
       "    <tr>\n",
       "      <th>15</th>\n",
       "      <td>5.7</td>\n",
       "      <td>4.4</td>\n",
       "      <td>1.5</td>\n",
       "      <td>0.4</td>\n",
       "      <td>setosa</td>\n",
       "    </tr>\n",
       "    <tr>\n",
       "      <th>16</th>\n",
       "      <td>5.4</td>\n",
       "      <td>3.9</td>\n",
       "      <td>1.3</td>\n",
       "      <td>0.4</td>\n",
       "      <td>setosa</td>\n",
       "    </tr>\n",
       "    <tr>\n",
       "      <th>17</th>\n",
       "      <td>5.1</td>\n",
       "      <td>3.5</td>\n",
       "      <td>1.4</td>\n",
       "      <td>0.3</td>\n",
       "      <td>setosa</td>\n",
       "    </tr>\n",
       "    <tr>\n",
       "      <th>18</th>\n",
       "      <td>5.7</td>\n",
       "      <td>3.8</td>\n",
       "      <td>1.7</td>\n",
       "      <td>0.3</td>\n",
       "      <td>setosa</td>\n",
       "    </tr>\n",
       "    <tr>\n",
       "      <th>19</th>\n",
       "      <td>5.1</td>\n",
       "      <td>3.8</td>\n",
       "      <td>1.5</td>\n",
       "      <td>0.3</td>\n",
       "      <td>setosa</td>\n",
       "    </tr>\n",
       "    <tr>\n",
       "      <th>20</th>\n",
       "      <td>5.4</td>\n",
       "      <td>3.4</td>\n",
       "      <td>1.7</td>\n",
       "      <td>0.2</td>\n",
       "      <td>setosa</td>\n",
       "    </tr>\n",
       "    <tr>\n",
       "      <th>21</th>\n",
       "      <td>5.1</td>\n",
       "      <td>3.7</td>\n",
       "      <td>1.5</td>\n",
       "      <td>0.4</td>\n",
       "      <td>setosa</td>\n",
       "    </tr>\n",
       "    <tr>\n",
       "      <th>22</th>\n",
       "      <td>4.6</td>\n",
       "      <td>3.6</td>\n",
       "      <td>1.0</td>\n",
       "      <td>0.2</td>\n",
       "      <td>setosa</td>\n",
       "    </tr>\n",
       "    <tr>\n",
       "      <th>23</th>\n",
       "      <td>5.1</td>\n",
       "      <td>3.3</td>\n",
       "      <td>1.7</td>\n",
       "      <td>0.5</td>\n",
       "      <td>setosa</td>\n",
       "    </tr>\n",
       "    <tr>\n",
       "      <th>24</th>\n",
       "      <td>4.8</td>\n",
       "      <td>3.4</td>\n",
       "      <td>1.9</td>\n",
       "      <td>0.2</td>\n",
       "      <td>setosa</td>\n",
       "    </tr>\n",
       "    <tr>\n",
       "      <th>25</th>\n",
       "      <td>5.0</td>\n",
       "      <td>3.0</td>\n",
       "      <td>1.6</td>\n",
       "      <td>0.2</td>\n",
       "      <td>setosa</td>\n",
       "    </tr>\n",
       "    <tr>\n",
       "      <th>26</th>\n",
       "      <td>5.0</td>\n",
       "      <td>3.4</td>\n",
       "      <td>1.6</td>\n",
       "      <td>0.4</td>\n",
       "      <td>setosa</td>\n",
       "    </tr>\n",
       "    <tr>\n",
       "      <th>27</th>\n",
       "      <td>5.2</td>\n",
       "      <td>3.5</td>\n",
       "      <td>1.5</td>\n",
       "      <td>0.2</td>\n",
       "      <td>setosa</td>\n",
       "    </tr>\n",
       "    <tr>\n",
       "      <th>28</th>\n",
       "      <td>5.2</td>\n",
       "      <td>3.4</td>\n",
       "      <td>1.4</td>\n",
       "      <td>0.2</td>\n",
       "      <td>setosa</td>\n",
       "    </tr>\n",
       "    <tr>\n",
       "      <th>29</th>\n",
       "      <td>4.7</td>\n",
       "      <td>3.2</td>\n",
       "      <td>1.6</td>\n",
       "      <td>0.2</td>\n",
       "      <td>setosa</td>\n",
       "    </tr>\n",
       "    <tr>\n",
       "      <th>...</th>\n",
       "      <td>...</td>\n",
       "      <td>...</td>\n",
       "      <td>...</td>\n",
       "      <td>...</td>\n",
       "      <td>...</td>\n",
       "    </tr>\n",
       "    <tr>\n",
       "      <th>120</th>\n",
       "      <td>6.9</td>\n",
       "      <td>3.2</td>\n",
       "      <td>5.7</td>\n",
       "      <td>2.3</td>\n",
       "      <td>virginica</td>\n",
       "    </tr>\n",
       "    <tr>\n",
       "      <th>121</th>\n",
       "      <td>5.6</td>\n",
       "      <td>2.8</td>\n",
       "      <td>4.9</td>\n",
       "      <td>2.0</td>\n",
       "      <td>virginica</td>\n",
       "    </tr>\n",
       "    <tr>\n",
       "      <th>122</th>\n",
       "      <td>7.7</td>\n",
       "      <td>2.8</td>\n",
       "      <td>6.7</td>\n",
       "      <td>2.0</td>\n",
       "      <td>virginica</td>\n",
       "    </tr>\n",
       "    <tr>\n",
       "      <th>123</th>\n",
       "      <td>6.3</td>\n",
       "      <td>2.7</td>\n",
       "      <td>4.9</td>\n",
       "      <td>1.8</td>\n",
       "      <td>virginica</td>\n",
       "    </tr>\n",
       "    <tr>\n",
       "      <th>124</th>\n",
       "      <td>6.7</td>\n",
       "      <td>3.3</td>\n",
       "      <td>5.7</td>\n",
       "      <td>2.1</td>\n",
       "      <td>virginica</td>\n",
       "    </tr>\n",
       "    <tr>\n",
       "      <th>125</th>\n",
       "      <td>7.2</td>\n",
       "      <td>3.2</td>\n",
       "      <td>6.0</td>\n",
       "      <td>1.8</td>\n",
       "      <td>virginica</td>\n",
       "    </tr>\n",
       "    <tr>\n",
       "      <th>126</th>\n",
       "      <td>6.2</td>\n",
       "      <td>2.8</td>\n",
       "      <td>4.8</td>\n",
       "      <td>1.8</td>\n",
       "      <td>virginica</td>\n",
       "    </tr>\n",
       "    <tr>\n",
       "      <th>127</th>\n",
       "      <td>6.1</td>\n",
       "      <td>3.0</td>\n",
       "      <td>4.9</td>\n",
       "      <td>1.8</td>\n",
       "      <td>virginica</td>\n",
       "    </tr>\n",
       "    <tr>\n",
       "      <th>128</th>\n",
       "      <td>6.4</td>\n",
       "      <td>2.8</td>\n",
       "      <td>5.6</td>\n",
       "      <td>2.1</td>\n",
       "      <td>virginica</td>\n",
       "    </tr>\n",
       "    <tr>\n",
       "      <th>129</th>\n",
       "      <td>7.2</td>\n",
       "      <td>3.0</td>\n",
       "      <td>5.8</td>\n",
       "      <td>1.6</td>\n",
       "      <td>virginica</td>\n",
       "    </tr>\n",
       "    <tr>\n",
       "      <th>130</th>\n",
       "      <td>7.4</td>\n",
       "      <td>2.8</td>\n",
       "      <td>6.1</td>\n",
       "      <td>1.9</td>\n",
       "      <td>virginica</td>\n",
       "    </tr>\n",
       "    <tr>\n",
       "      <th>131</th>\n",
       "      <td>7.9</td>\n",
       "      <td>3.8</td>\n",
       "      <td>6.4</td>\n",
       "      <td>2.0</td>\n",
       "      <td>virginica</td>\n",
       "    </tr>\n",
       "    <tr>\n",
       "      <th>132</th>\n",
       "      <td>6.4</td>\n",
       "      <td>2.8</td>\n",
       "      <td>5.6</td>\n",
       "      <td>2.2</td>\n",
       "      <td>virginica</td>\n",
       "    </tr>\n",
       "    <tr>\n",
       "      <th>133</th>\n",
       "      <td>6.3</td>\n",
       "      <td>2.8</td>\n",
       "      <td>5.1</td>\n",
       "      <td>1.5</td>\n",
       "      <td>virginica</td>\n",
       "    </tr>\n",
       "    <tr>\n",
       "      <th>134</th>\n",
       "      <td>6.1</td>\n",
       "      <td>2.6</td>\n",
       "      <td>5.6</td>\n",
       "      <td>1.4</td>\n",
       "      <td>virginica</td>\n",
       "    </tr>\n",
       "    <tr>\n",
       "      <th>135</th>\n",
       "      <td>7.7</td>\n",
       "      <td>3.0</td>\n",
       "      <td>6.1</td>\n",
       "      <td>2.3</td>\n",
       "      <td>virginica</td>\n",
       "    </tr>\n",
       "    <tr>\n",
       "      <th>136</th>\n",
       "      <td>6.3</td>\n",
       "      <td>3.4</td>\n",
       "      <td>5.6</td>\n",
       "      <td>2.4</td>\n",
       "      <td>virginica</td>\n",
       "    </tr>\n",
       "    <tr>\n",
       "      <th>137</th>\n",
       "      <td>6.4</td>\n",
       "      <td>3.1</td>\n",
       "      <td>5.5</td>\n",
       "      <td>1.8</td>\n",
       "      <td>virginica</td>\n",
       "    </tr>\n",
       "    <tr>\n",
       "      <th>138</th>\n",
       "      <td>6.0</td>\n",
       "      <td>3.0</td>\n",
       "      <td>4.8</td>\n",
       "      <td>1.8</td>\n",
       "      <td>virginica</td>\n",
       "    </tr>\n",
       "    <tr>\n",
       "      <th>139</th>\n",
       "      <td>6.9</td>\n",
       "      <td>3.1</td>\n",
       "      <td>5.4</td>\n",
       "      <td>2.1</td>\n",
       "      <td>virginica</td>\n",
       "    </tr>\n",
       "    <tr>\n",
       "      <th>140</th>\n",
       "      <td>6.7</td>\n",
       "      <td>3.1</td>\n",
       "      <td>5.6</td>\n",
       "      <td>2.4</td>\n",
       "      <td>virginica</td>\n",
       "    </tr>\n",
       "    <tr>\n",
       "      <th>141</th>\n",
       "      <td>6.9</td>\n",
       "      <td>3.1</td>\n",
       "      <td>5.1</td>\n",
       "      <td>2.3</td>\n",
       "      <td>virginica</td>\n",
       "    </tr>\n",
       "    <tr>\n",
       "      <th>142</th>\n",
       "      <td>5.8</td>\n",
       "      <td>2.7</td>\n",
       "      <td>5.1</td>\n",
       "      <td>1.9</td>\n",
       "      <td>virginica</td>\n",
       "    </tr>\n",
       "    <tr>\n",
       "      <th>143</th>\n",
       "      <td>6.8</td>\n",
       "      <td>3.2</td>\n",
       "      <td>5.9</td>\n",
       "      <td>2.3</td>\n",
       "      <td>virginica</td>\n",
       "    </tr>\n",
       "    <tr>\n",
       "      <th>144</th>\n",
       "      <td>6.7</td>\n",
       "      <td>3.3</td>\n",
       "      <td>5.7</td>\n",
       "      <td>2.5</td>\n",
       "      <td>virginica</td>\n",
       "    </tr>\n",
       "    <tr>\n",
       "      <th>145</th>\n",
       "      <td>6.7</td>\n",
       "      <td>3.0</td>\n",
       "      <td>5.2</td>\n",
       "      <td>2.3</td>\n",
       "      <td>virginica</td>\n",
       "    </tr>\n",
       "    <tr>\n",
       "      <th>146</th>\n",
       "      <td>6.3</td>\n",
       "      <td>2.5</td>\n",
       "      <td>5.0</td>\n",
       "      <td>1.9</td>\n",
       "      <td>virginica</td>\n",
       "    </tr>\n",
       "    <tr>\n",
       "      <th>147</th>\n",
       "      <td>6.5</td>\n",
       "      <td>3.0</td>\n",
       "      <td>5.2</td>\n",
       "      <td>2.0</td>\n",
       "      <td>virginica</td>\n",
       "    </tr>\n",
       "    <tr>\n",
       "      <th>148</th>\n",
       "      <td>6.2</td>\n",
       "      <td>3.4</td>\n",
       "      <td>5.4</td>\n",
       "      <td>2.3</td>\n",
       "      <td>virginica</td>\n",
       "    </tr>\n",
       "    <tr>\n",
       "      <th>149</th>\n",
       "      <td>5.9</td>\n",
       "      <td>3.0</td>\n",
       "      <td>5.1</td>\n",
       "      <td>1.8</td>\n",
       "      <td>virginica</td>\n",
       "    </tr>\n",
       "  </tbody>\n",
       "</table>\n",
       "<p>150 rows × 5 columns</p>\n",
       "</div>"
      ],
      "text/plain": [
       "     sepal_length  sepal_width  petal_length  petal_width    species\n",
       "0             5.1          3.5           1.4          0.2     setosa\n",
       "1             4.9          3.0           1.4          0.2     setosa\n",
       "2             4.7          3.2           1.3          0.2     setosa\n",
       "3             4.6          3.1           1.5          0.2     setosa\n",
       "4             5.0          3.6           1.4          0.2     setosa\n",
       "5             5.4          3.9           1.7          0.4     setosa\n",
       "6             4.6          3.4           1.4          0.3     setosa\n",
       "7             5.0          3.4           1.5          0.2     setosa\n",
       "8             4.4          2.9           1.4          0.2     setosa\n",
       "9             4.9          3.1           1.5          0.1     setosa\n",
       "10            5.4          3.7           1.5          0.2     setosa\n",
       "11            4.8          3.4           1.6          0.2     setosa\n",
       "12            4.8          3.0           1.4          0.1     setosa\n",
       "13            4.3          3.0           1.1          0.1     setosa\n",
       "14            5.8          4.0           1.2          0.2     setosa\n",
       "15            5.7          4.4           1.5          0.4     setosa\n",
       "16            5.4          3.9           1.3          0.4     setosa\n",
       "17            5.1          3.5           1.4          0.3     setosa\n",
       "18            5.7          3.8           1.7          0.3     setosa\n",
       "19            5.1          3.8           1.5          0.3     setosa\n",
       "20            5.4          3.4           1.7          0.2     setosa\n",
       "21            5.1          3.7           1.5          0.4     setosa\n",
       "22            4.6          3.6           1.0          0.2     setosa\n",
       "23            5.1          3.3           1.7          0.5     setosa\n",
       "24            4.8          3.4           1.9          0.2     setosa\n",
       "25            5.0          3.0           1.6          0.2     setosa\n",
       "26            5.0          3.4           1.6          0.4     setosa\n",
       "27            5.2          3.5           1.5          0.2     setosa\n",
       "28            5.2          3.4           1.4          0.2     setosa\n",
       "29            4.7          3.2           1.6          0.2     setosa\n",
       "..            ...          ...           ...          ...        ...\n",
       "120           6.9          3.2           5.7          2.3  virginica\n",
       "121           5.6          2.8           4.9          2.0  virginica\n",
       "122           7.7          2.8           6.7          2.0  virginica\n",
       "123           6.3          2.7           4.9          1.8  virginica\n",
       "124           6.7          3.3           5.7          2.1  virginica\n",
       "125           7.2          3.2           6.0          1.8  virginica\n",
       "126           6.2          2.8           4.8          1.8  virginica\n",
       "127           6.1          3.0           4.9          1.8  virginica\n",
       "128           6.4          2.8           5.6          2.1  virginica\n",
       "129           7.2          3.0           5.8          1.6  virginica\n",
       "130           7.4          2.8           6.1          1.9  virginica\n",
       "131           7.9          3.8           6.4          2.0  virginica\n",
       "132           6.4          2.8           5.6          2.2  virginica\n",
       "133           6.3          2.8           5.1          1.5  virginica\n",
       "134           6.1          2.6           5.6          1.4  virginica\n",
       "135           7.7          3.0           6.1          2.3  virginica\n",
       "136           6.3          3.4           5.6          2.4  virginica\n",
       "137           6.4          3.1           5.5          1.8  virginica\n",
       "138           6.0          3.0           4.8          1.8  virginica\n",
       "139           6.9          3.1           5.4          2.1  virginica\n",
       "140           6.7          3.1           5.6          2.4  virginica\n",
       "141           6.9          3.1           5.1          2.3  virginica\n",
       "142           5.8          2.7           5.1          1.9  virginica\n",
       "143           6.8          3.2           5.9          2.3  virginica\n",
       "144           6.7          3.3           5.7          2.5  virginica\n",
       "145           6.7          3.0           5.2          2.3  virginica\n",
       "146           6.3          2.5           5.0          1.9  virginica\n",
       "147           6.5          3.0           5.2          2.0  virginica\n",
       "148           6.2          3.4           5.4          2.3  virginica\n",
       "149           5.9          3.0           5.1          1.8  virginica\n",
       "\n",
       "[150 rows x 5 columns]"
      ]
     },
     "execution_count": 4,
     "metadata": {},
     "output_type": "execute_result"
    }
   ],
   "source": [
    "import seaborn as sns\n",
    "%matplotlib inline\n",
    "sns.set(style=\"ticks\")\n",
    "\n",
    "dfIris = sns.load_dataset(\"iris\")\n",
    "dfIris"
   ]
  },
  {
   "cell_type": "code",
   "execution_count": 141,
   "metadata": {
    "scrolled": true
   },
   "outputs": [
    {
     "name": "stderr",
     "output_type": "stream",
     "text": [
      "'c' argument looks like a single numeric RGB or RGBA sequence, which should be avoided as value-mapping will have precedence in case its length matches with 'x' & 'y'.  Please use a 2-D array with a single row if you really want to specify the same RGB or RGBA value for all points.\n"
     ]
    },
    {
     "data": {
      "text/plain": [
       "<matplotlib.axes._subplots.AxesSubplot at 0x1a1a9959e8>"
      ]
     },
     "execution_count": 141,
     "metadata": {},
     "output_type": "execute_result"
    },
    {
     "data": {
      "image/png": "[encoded data removed]",
      "text/plain": [
       "<Figure size 432x288 with 1 Axes>"
      ]
     },
     "metadata": {},
     "output_type": "display_data"
    }
   ],
   "source": [
    "dfIris.plot.scatter(['petal_length'],['petal_width'])"
   ]
  },
  {
   "cell_type": "code",
   "execution_count": 6,
   "metadata": {},
   "outputs": [],
   "source": [
    "import numpy as np\n",
    "X=dfIris[['petal_length']]\n",
    "y=dfIris[['petal_width']]\n",
    "xvals=np.linspace(X.min(),X.max(),200)"
   ]
  },
  {
   "cell_type": "code",
   "execution_count": 9,
   "metadata": {},
   "outputs": [],
   "source": [
    "%matplotlib inline\n",
    "from sklearn.linear_model import Ridge,Lasso,LinearRegression\n",
    "from sklearn.preprocessing import PolynomialFeatures\n",
    "import matplotlib.pyplot as plt\n",
    "\n",
    "def train_and_plot(d=15,a=0.1):\n",
    "    gen_poly_terms = PolynomialFeatures(degree=d)\n",
    "    X_train_with_poly = gen_poly_terms.fit_transform(X)\n",
    "    poly_regression = Lasso(alpha=a)\n",
    "    #poly_regression = Ridge(alpha=a)\n",
    "    #poly_regression = LinearRegression()\n",
    "    poly_regression.fit(X_train_with_poly, y)\n",
    "    poly_vals=gen_poly_terms.transform(xvals)\n",
    "    y_pred=poly_regression.predict(poly_vals)\n",
    "    fig, ax = plt.subplots()\n",
    "    dfIris.plot.scatter('petal_length','petal_width',color='gray',alpha=0.1,label='data',ax=ax)\n",
    "    ax.plot(xvals,y_pred, color='red', linewidth=1.0, label='regression line')\n",
    "    plt.legend()\n",
    "    plt.figure()\n",
    "    #plt.bar(range(len(poly_regression.coef_[0])),poly_regression.coef_[0])\n",
    "    plt.bar(range(len(poly_regression.coef_)),poly_regression.coef_)"
   ]
  },
  {
   "cell_type": "code",
   "execution_count": 8,
   "metadata": {},
   "outputs": [
    {
     "data": {
      "application/vnd.jupyter.widget-view+json": {
       "model_id": "7a262ff14b0248e494f706898a9fad1e",
       "version_major": 2,
       "version_minor": 0
      },
      "text/plain": [
       "interactive(children=(IntSlider(value=15, description='d', max=30, min=2), FloatSlider(value=0.1, description=…"
      ]
     },
     "metadata": {},
     "output_type": "display_data"
    },
    {
     "data": {
      "text/plain": [
       "<function __main__.train_and_plot(d=15, a=0.1)>"
      ]
     },
     "execution_count": 8,
     "metadata": {},
     "output_type": "execute_result"
    }
   ],
   "source": [
    "from ipywidgets import interact\n",
    "interact(train_and_plot,d=(2,30),a=(0.0,2.0,0.1))"
   ]
  },
  {
   "cell_type": "markdown",
   "metadata": {},
   "source": [
    "## 2.- Linear Regression... without training wheels\n",
    "\n",
    "### Objective\n",
    "\n",
    "As an exercise lets do a linear regression without training wheels:\n",
    "* <b>Left wheel</b>: $x \\in \\mathbb{R}$ --> $\\mathbf{x} \\in \\mathbb{R}^n$ variable\n",
    "* <b>Right wheel</b>: `scikit-learn` package --> just `pandas`, `numpy` and `scipy`\n",
    "\n",
    "### Theory\n",
    "What is a linear model?\n",
    "$$ y = f(\\mathbf{x};\\mathbf{w}) = \\sum_j w_j \\phi_j(\\mathbf{x}) = \\mathbf{w}^\\textrm{T} \\boldsymbol{\\phi}(\\mathbf{x}) $$\n",
    "\n",
    "Examples:\n",
    "* Polinomial: $\\phi_j(\\mathbf{x}) = \\|\\mathbf{x}\\|^j$\n",
    "* Gaussian: $\\phi_j(\\mathbf{x}) = \\exp\\left\\{\\frac{- \\|\\mathbf{x} - \\boldsymbol{\\mu}_j\\|^2}{2s^2}\\right\\}$\n",
    "* Sigmoidal: $\\phi_j(\\mathbf{x}) = \\sigma\\left(\\frac{\\|\\mathbf{x} - \\boldsymbol{\\mu}_j\\|}{s}\\right)= \\frac{1}{1 + \\exp\\left( \\frac{-\\|\\mathbf{x} - \\boldsymbol{\\mu}_j\\|}{s}\\right)}$"
   ]
  },
  {
   "cell_type": "code",
   "execution_count": 158,
   "metadata": {},
   "outputs": [
    {
     "data": {
      "application/vnd.jupyter.widget-view+json": {
       "model_id": "5b04f806e2b04a049f41352ba5198663",
       "version_major": 2,
       "version_minor": 0
      },
      "text/plain": [
       "interactive(children=(FloatSlider(value=0.0, description='mu', max=2.0, min=-2.0), FloatSlider(value=1.0, desc…"
      ]
     },
     "metadata": {},
     "output_type": "display_data"
    },
    {
     "data": {
      "text/plain": [
       "<function __main__.show_gaussian(mu=0.0, s=1.0)>"
      ]
     },
     "execution_count": 158,
     "metadata": {},
     "output_type": "execute_result"
    }
   ],
   "source": [
    "import matplotlib.pyplot as plt\n",
    "import numpy as np\n",
    "from ipywidgets import interact\n",
    "\n",
    "def show_gaussian(mu=0.0,s=1.0):\n",
    "    a = np.arange(-10, 10, 0.1)\n",
    "    plt.plot(a, np.exp(-(a-mu)**2/(2*s**2)))\n",
    "interact(show_gaussian,mu=(-2.0,2.0),s=(0.1,10))"
   ]
  },
  {
   "cell_type": "code",
   "execution_count": 159,
   "metadata": {
    "scrolled": true
   },
   "outputs": [
    {
     "data": {
      "application/vnd.jupyter.widget-view+json": {
       "model_id": "4f784abcd3f2468eb4baaffecaa7df6c",
       "version_major": 2,
       "version_minor": 0
      },
      "text/plain": [
       "interactive(children=(FloatSlider(value=0.0, description='mu', max=2.0, min=-2.0), FloatSlider(value=1.0, desc…"
      ]
     },
     "metadata": {},
     "output_type": "display_data"
    },
    {
     "data": {
      "text/plain": [
       "<function __main__.show_sigmoid(mu=0.0, s=1.0)>"
      ]
     },
     "execution_count": 159,
     "metadata": {},
     "output_type": "execute_result"
    }
   ],
   "source": [
    "def show_sigmoid(mu=0.0,s=1.0):\n",
    "    a = np.arange(-10, 10, 0.1)\n",
    "    plt.plot(a, 1./(1. + np.exp(-(a-mu)/s)))\n",
    "interact(show_sigmoid,mu=(-2.0,2.0),s=(0.1,10))"
   ]
  },
  {
   "cell_type": "markdown",
   "metadata": {},
   "source": [
    "Imagine you fix every $\\mu_j$ and $s$. \n",
    "\n",
    "<b>How we can learn</b> $\\mathbf{w}$ (assuming Gaussian noise $\\epsilon \\sim N(\\mu,\\sigma)$)?\n",
    "\n",
    "$$\\begin{align} Pr(Y \\mid \\mathbf{X},\\mathbf{y}) &= \\prod_i \\mathcal{N}(Y = y_i \\mid f(\\mathbf{x}_i;\\mathbf{w}),\\sigma)\\\\ &= \\prod_i \\mathcal{N}(Y = y_i \\mid \\mathbf{w}^\\textrm{T} \\boldsymbol{\\phi}(\\mathbf{x}_i),\\sigma)\\end{align} $$\n",
    "\n",
    "We want to maximize this probability\n",
    "\n",
    "$$ \\begin{align} \\ln Pr(Y \\mid \\mathbf{X},\\mathbf{y}) & = \\sum_i \\ln \\mathcal{N}(Y = y_i \\mid \\mathbf{w}^\\textrm{T} \\boldsymbol{\\phi}(\\mathbf{x}_i),\\sigma)\\\\ & \\propto \\sum_i\\left( y_i - \\mathbf{w}^\\textrm{T} \\boldsymbol{\\phi}(\\mathbf{x}_i)\\right)^2 \\end{align} $$\n",
    "\n",
    "If we compute the gradient of this\n",
    "$$ \\begin{align} \\nabla\\ln Pr(Y \\mid \\mathbf{X},\\mathbf{y}) & = \\sum_i\\left( y_i - \\mathbf{w}^\\textrm{T}\\boldsymbol{\\phi}(\\mathbf{x}_i)\\right)\\boldsymbol{\\phi}(\\mathbf{x}_i)^\\textrm{T} \\\\\n",
    "\\nabla\\ln Pr(Y \\mid \\mathbf{X},\\mathbf{y}) &= \\mathbf{0} \\\\\n",
    "\\sum_i y_i \\boldsymbol{\\phi}(\\mathbf{x}_i)^\\textrm{T} &= \\mathbf{w}^\\textrm{T}\\sum_i\\boldsymbol{\\phi}(\\mathbf{x}_i)\\boldsymbol{\\phi}(\\mathbf{x}_i)^\\textrm{T}\\\\\n",
    "\\mathbf{y}^\\textrm{T}\\boldsymbol{\\Phi} &= \\mathbf{w}^\\textrm{T}\\boldsymbol{\\Phi}\\boldsymbol{\\Phi}^\\textrm{T}\\\\\n",
    "\\mathbf{w} &= (\\boldsymbol{\\Phi}^\\textrm{T}\\boldsymbol{\\Phi})^{-1}\\boldsymbol{\\Phi}^\\textrm{T}\\mathbf{y}\n",
    "\\end{align}$$\n",
    "\n",
    "The $\\boldsymbol{\\Phi}$ is called the <b>Design Matrix</b> and have the form:\n",
    "$$\\begin{bmatrix}\n",
    "1 & \\phi_1(\\mathbf{x}_1) & \\phi_2(\\mathbf{x}_1) & \\ldots & \\phi_m(\\mathbf{x}_1)\\\\\n",
    "1 & \\phi_1(\\mathbf{x}_2) & \\phi_2(\\mathbf{x}_2) & \\ldots & \\phi_m(\\mathbf{x}_2)\\\\\n",
    "\\vdots & \\vdots & \\vdots & \\ddots & \\vdots\\\\\n",
    "1 & \\phi_1(\\mathbf{x}_n) & \\phi_2(\\mathbf{x}_n) & \\ldots & \\phi_m(\\mathbf{x}_n)\n",
    "\\end{bmatrix}$$"
   ]
  },
  {
   "cell_type": "markdown",
   "metadata": {},
   "source": [
    "### a) Use now ALL the dimensions now and select $\\mu$'s \n",
    "* Check if you have all the dimensions of the training and validation sets (not one like in the previous example)\n",
    "* Resample to n=100 o similar for working\n",
    "* Select 20 points of the training sample to use as $\\mu$ values\n",
    "* It will be handy for later doing this in a function, recieving the number of total samples $(n,m)$"
   ]
  },
  {
   "cell_type": "code",
   "execution_count": 161,
   "metadata": {
    "scrolled": true
   },
   "outputs": [
    {
     "data": {
      "text/plain": [
       "(     sepal_length  sepal_width  petal_length\n",
       " 114           5.8          2.8           5.1\n",
       " 62            6.0          2.2           4.0\n",
       " 33            5.5          4.2           1.4\n",
       " 107           7.3          2.9           6.3\n",
       " 7             5.0          3.4           1.5\n",
       " 100           6.3          3.3           6.0\n",
       " 40            5.0          3.5           1.3\n",
       " 86            6.7          3.1           4.7\n",
       " 76            6.8          2.8           4.8\n",
       " 71            6.1          2.8           4.0\n",
       " 134           6.1          2.6           5.6\n",
       " 51            6.4          3.2           4.5\n",
       " 73            6.1          2.8           4.7\n",
       " 54            6.5          2.8           4.6\n",
       " 63            6.1          2.9           4.7\n",
       " 37            4.9          3.6           1.4\n",
       " 78            6.0          2.9           4.5\n",
       " 90            5.5          2.6           4.4\n",
       " 45            4.8          3.0           1.4\n",
       " 16            5.4          3.9           1.3\n",
       " 121           5.6          2.8           4.9\n",
       " 66            5.6          3.0           4.5\n",
       " 24            4.8          3.4           1.9\n",
       " 8             4.4          2.9           1.4\n",
       " 126           6.2          2.8           4.8\n",
       " 22            4.6          3.6           1.0\n",
       " 44            5.1          3.8           1.9\n",
       " 97            6.2          2.9           4.3\n",
       " 93            5.0          2.3           3.3\n",
       " 26            5.0          3.4           1.6\n",
       " ..            ...          ...           ...\n",
       " 60            5.0          2.0           3.5\n",
       " 116           6.5          3.0           5.5\n",
       " 144           6.7          3.3           5.7\n",
       " 119           6.0          2.2           5.0\n",
       " 108           6.7          2.5           5.8\n",
       " 69            5.6          2.5           3.9\n",
       " 135           7.7          3.0           6.1\n",
       " 56            6.3          3.3           4.7\n",
       " 80            5.5          2.4           3.8\n",
       " 123           6.3          2.7           4.9\n",
       " 133           6.3          2.8           5.1\n",
       " 106           4.9          2.5           4.5\n",
       " 146           6.3          2.5           5.0\n",
       " 50            7.0          3.2           4.7\n",
       " 147           6.5          3.0           5.2\n",
       " 85            6.0          3.4           4.5\n",
       " 30            4.8          3.1           1.6\n",
       " 101           5.8          2.7           5.1\n",
       " 94            5.6          2.7           4.2\n",
       " 64            5.6          2.9           3.6\n",
       " 89            5.5          2.5           4.0\n",
       " 91            6.1          3.0           4.6\n",
       " 125           7.2          3.2           6.0\n",
       " 48            5.3          3.7           1.5\n",
       " 13            4.3          3.0           1.1\n",
       " 111           6.4          2.7           5.3\n",
       " 95            5.7          3.0           4.2\n",
       " 20            5.4          3.4           1.7\n",
       " 15            5.7          4.4           1.5\n",
       " 52            6.9          3.1           4.9\n",
       " \n",
       " [75 rows x 3 columns], 114    2.4\n",
       " 62     1.0\n",
       " 33     0.2\n",
       " 107    1.8\n",
       " 7      0.2\n",
       " 100    2.5\n",
       " 40     0.3\n",
       " 86     1.5\n",
       " 76     1.4\n",
       " 71     1.3\n",
       " 134    1.4\n",
       " 51     1.5\n",
       " 73     1.2\n",
       " 54     1.5\n",
       " 63     1.4\n",
       " 37     0.1\n",
       " 78     1.5\n",
       " 90     1.2\n",
       " 45     0.3\n",
       " 16     0.4\n",
       " 121    2.0\n",
       " 66     1.5\n",
       " 24     0.2\n",
       " 8      0.2\n",
       " 126    1.8\n",
       " 22     0.2\n",
       " 44     0.4\n",
       " 97     1.3\n",
       " 93     1.0\n",
       " 26     0.4\n",
       "       ... \n",
       " 60     1.0\n",
       " 116    1.8\n",
       " 144    2.5\n",
       " 119    1.5\n",
       " 108    1.8\n",
       " 69     1.1\n",
       " 135    2.3\n",
       " 56     1.6\n",
       " 80     1.1\n",
       " 123    1.8\n",
       " 133    1.5\n",
       " 106    1.7\n",
       " 146    1.9\n",
       " 50     1.4\n",
       " 147    2.0\n",
       " 85     1.6\n",
       " 30     0.2\n",
       " 101    1.9\n",
       " 94     1.3\n",
       " 64     1.3\n",
       " 89     1.3\n",
       " 91     1.4\n",
       " 125    1.8\n",
       " 48     0.2\n",
       " 13     0.1\n",
       " 111    1.9\n",
       " 95     1.2\n",
       " 20     0.2\n",
       " 15     0.4\n",
       " 52     1.5\n",
       " Name: petal_width, Length: 75, dtype: float64,      sepal_length  sepal_width  petal_length\n",
       " 56            6.3          3.3           4.7\n",
       " 146           6.3          2.5           5.0\n",
       " 24            4.8          3.4           1.9\n",
       " 52            6.9          3.1           4.9\n",
       " 93            5.0          2.3           3.3\n",
       " 44            5.1          3.8           1.9\n",
       " 91            6.1          3.0           4.6\n",
       " 123           6.3          2.7           4.9\n",
       " 132           6.4          2.8           5.6\n",
       " 86            6.7          3.1           4.7\n",
       " 43            5.0          3.5           1.6\n",
       " 147           6.5          3.0           5.2\n",
       " 2             4.7          3.2           1.3\n",
       " 112           6.8          3.0           5.5\n",
       " 127           6.1          3.0           4.9\n",
       " 111           6.4          2.7           5.3\n",
       " 97            6.2          2.9           4.3\n",
       " 108           6.7          2.5           5.8\n",
       " 85            6.0          3.4           4.5\n",
       " 106           4.9          2.5           4.5,      sepal_length  sepal_width  petal_length\n",
       " 22            4.6          3.6           1.0\n",
       " 44            5.1          3.8           1.9\n",
       " 97            6.2          2.9           4.3\n",
       " 93            5.0          2.3           3.3\n",
       " 26            5.0          3.4           1.6\n",
       " 137           6.4          3.1           5.5\n",
       " 84            5.4          3.0           4.5\n",
       " 27            5.2          3.5           1.5\n",
       " 127           6.1          3.0           4.9\n",
       " 132           6.4          2.8           5.6\n",
       " 59            5.2          2.7           3.9\n",
       " 18            5.7          3.8           1.7\n",
       " 83            6.0          2.7           5.1\n",
       " 61            5.9          3.0           4.2\n",
       " 92            5.8          2.6           4.0\n",
       " 112           6.8          3.0           5.5\n",
       " 2             4.7          3.2           1.3\n",
       " 141           6.9          3.1           5.1\n",
       " 43            5.0          3.5           1.6\n",
       " 10            5.4          3.7           1.5\n",
       " 60            5.0          2.0           3.5\n",
       " 116           6.5          3.0           5.5\n",
       " 144           6.7          3.3           5.7\n",
       " 119           6.0          2.2           5.0\n",
       " 108           6.7          2.5           5.8\n",
       " 69            5.6          2.5           3.9\n",
       " 135           7.7          3.0           6.1\n",
       " 56            6.3          3.3           4.7\n",
       " 80            5.5          2.4           3.8\n",
       " 123           6.3          2.7           4.9\n",
       " ..            ...          ...           ...\n",
       " 111           6.4          2.7           5.3\n",
       " 95            5.7          3.0           4.2\n",
       " 20            5.4          3.4           1.7\n",
       " 15            5.7          4.4           1.5\n",
       " 52            6.9          3.1           4.9\n",
       " 3             4.6          3.1           1.5\n",
       " 149           5.9          3.0           5.1\n",
       " 98            5.1          2.5           3.0\n",
       " 6             4.6          3.4           1.4\n",
       " 68            6.2          2.2           4.5\n",
       " 109           7.2          3.6           6.1\n",
       " 96            5.7          2.9           4.2\n",
       " 12            4.8          3.0           1.4\n",
       " 102           7.1          3.0           5.9\n",
       " 120           6.9          3.2           5.7\n",
       " 104           6.5          3.0           5.8\n",
       " 128           6.4          2.8           5.6\n",
       " 46            5.1          3.8           1.6\n",
       " 11            4.8          3.4           1.6\n",
       " 110           6.5          3.2           5.1\n",
       " 124           6.7          3.3           5.7\n",
       " 41            4.5          2.3           1.3\n",
       " 148           6.2          3.4           5.4\n",
       " 1             4.9          3.0           1.4\n",
       " 113           5.7          2.5           5.0\n",
       " 139           6.9          3.1           5.4\n",
       " 42            4.4          3.2           1.3\n",
       " 4             5.0          3.6           1.4\n",
       " 129           7.2          3.0           5.8\n",
       " 17            5.1          3.5           1.4\n",
       " \n",
       " [75 rows x 3 columns], 22     0.2\n",
       " 44     0.4\n",
       " 97     1.3\n",
       " 93     1.0\n",
       " 26     0.4\n",
       " 137    1.8\n",
       " 84     1.5\n",
       " 27     0.2\n",
       " 127    1.8\n",
       " 132    2.2\n",
       " 59     1.4\n",
       " 18     0.3\n",
       " 83     1.6\n",
       " 61     1.5\n",
       " 92     1.2\n",
       " 112    2.1\n",
       " 2      0.2\n",
       " 141    2.3\n",
       " 43     0.6\n",
       " 10     0.2\n",
       " 60     1.0\n",
       " 116    1.8\n",
       " 144    2.5\n",
       " 119    1.5\n",
       " 108    1.8\n",
       " 69     1.1\n",
       " 135    2.3\n",
       " 56     1.6\n",
       " 80     1.1\n",
       " 123    1.8\n",
       "       ... \n",
       " 111    1.9\n",
       " 95     1.2\n",
       " 20     0.2\n",
       " 15     0.4\n",
       " 52     1.5\n",
       " 3      0.2\n",
       " 149    1.8\n",
       " 98     1.1\n",
       " 6      0.3\n",
       " 68     1.5\n",
       " 109    2.5\n",
       " 96     1.3\n",
       " 12     0.1\n",
       " 102    2.1\n",
       " 120    2.3\n",
       " 104    2.2\n",
       " 128    2.1\n",
       " 46     0.2\n",
       " 11     0.2\n",
       " 110    2.0\n",
       " 124    2.1\n",
       " 41     0.3\n",
       " 148    2.3\n",
       " 1      0.2\n",
       " 113    2.0\n",
       " 139    2.1\n",
       " 42     0.2\n",
       " 4      0.2\n",
       " 129    1.6\n",
       " 17     0.3\n",
       " Name: petal_width, Length: 75, dtype: float64)"
      ]
     },
     "execution_count": 161,
     "metadata": {},
     "output_type": "execute_result"
    }
   ],
   "source": [
    "def get_matrices(n,m):\n",
    "    iris_sample = dfIris.sample(n=n,random_state=0)\n",
    "    train_data = iris_sample[:int(len(iris_sample)*0.75)]\n",
    "    test_data = iris_sample[int(len(iris_sample)*0.25):]\n",
    "    X=train_data[['sepal_length','sepal_width','petal_length']]\n",
    "    y=train_data['petal_width']\n",
    "    mu=X.sample(n=m,random_state=0)\n",
    "    Xp=test_data[['sepal_length','sepal_width','petal_length']]\n",
    "    yp=test_data['petal_width']\n",
    "    return(X,y,mu,Xp,yp)\n",
    "get_matrices(100,20)"
   ]
  },
  {
   "cell_type": "markdown",
   "metadata": {},
   "source": [
    "### b) Construct your own design matrix\n",
    "* Choose a not so trivial kernel (i.e. Gaussian/Sigmoidal)\n",
    "* Use the L2-norm $\\|\\cdot\\|_2$ and remember that\n",
    "$$ (\\mathbf{a} - \\mathbf{b})^\\textrm{T}(\\mathbf{a} - \\mathbf{b}) = \\mathbf{a}^\\textrm{T}\\mathbf{a} + \\mathbf{b}^\\textrm{T}\\mathbf{b} - 2\\mathbf{a}^\\textrm{T}\\mathbf{b} $$ and remember to round up to 10 decimals\n",
    "* Plot the matrix using `plt.imshow`"
   ]
  },
  {
   "cell_type": "code",
   "execution_count": 162,
   "metadata": {},
   "outputs": [],
   "source": [
    "def design_matrix(X,mu,s,func):\n",
    "    vx   = (X*X).sum(axis=1)\n",
    "    vmu  = (mu*mu).sum(axis=1)\n",
    "    Mxmu = X.dot(mu.T)\n",
    "    A=np.tile(vx,((len(vmu),1))).T\n",
    "    B=np.tile(vmu,((len(vx),1)))\n",
    "    C=Mxmu\n",
    "    \n",
    "    D=A + B -2*C\n",
    "    D=np.around(D,decimals=10)\n",
    "    N=np.sqrt(D)\n",
    "    N=func(N,s)\n",
    "    N=np.concatenate([np.ones((len(X),1)),N], axis=1)\n",
    "    return N"
   ]
  },
  {
   "cell_type": "code",
   "execution_count": 163,
   "metadata": {
    "scrolled": false
   },
   "outputs": [
    {
     "data": {
      "text/plain": [
       "<matplotlib.colorbar.Colorbar at 0x1a1cf07860>"
      ]
     },
     "execution_count": 163,
     "metadata": {},
     "output_type": "execute_result"
    },
    {
     "data": {
      "image/png": "[encoded data removed]",
      "text/plain": [
       "<Figure size 432x288 with 2 Axes>"
      ]
     },
     "metadata": {
      "needs_background": "light"
     },
     "output_type": "display_data"
    },
    {
     "data": {
      "image/png": "[encoded data removed]",
      "text/plain": [
       "<Figure size 432x288 with 2 Axes>"
      ]
     },
     "metadata": {
      "needs_background": "light"
     },
     "output_type": "display_data"
    }
   ],
   "source": [
    "gauss = lambda x,s: np.exp(-(x)**2/(2*s**2))\n",
    "sigmo = lambda x,s:1./(1. + np.exp(-x/s))\n",
    "\n",
    "X,y,mu,Xp,yp = get_matrices(150,20)\n",
    "\n",
    "plt.imshow(design_matrix(X,mu,1.0,gauss)[:20])\n",
    "plt.colorbar()\n",
    "plt.figure()\n",
    "plt.imshow(design_matrix(X,mu,1.0,sigmo)[:20])\n",
    "plt.colorbar()"
   ]
  },
  {
   "cell_type": "markdown",
   "metadata": {},
   "source": [
    "### c) Train and Predict\n",
    "* Get a design matrix\n",
    "* Compute $\\mathbf{w} = (\\boldsymbol{\\Phi}^\\textrm{T}\\boldsymbol{\\Phi})^{-1}\\boldsymbol{\\Phi}^\\textrm{T}\\mathbf{y}$ using `scipy.linal` package for computing the inverse. Remember that this model is not regularized, so compute the pseudo-inverse.\n",
    "* Get the \"predictions\" for the training data $\\mathbf{w}^\\textrm{T}\\boldsymbol{\\Phi}_\\mathbf{X}$\n",
    "* Get the predictions for the test/validation data $\\mathbf{w}^\\textrm{T}\\boldsymbol{\\Phi}_\\mathbf{X'}$"
   ]
  },
  {
   "cell_type": "code",
   "execution_count": 164,
   "metadata": {},
   "outputs": [],
   "source": [
    "from scipy import linalg\n",
    "def train_and_predict(X,y,mu,Xp,yp,s,func):\n",
    "    # Get the design matrix\n",
    "    P=design_matrix(X,mu,s,func)\n",
    "    # Get the weights\n",
    "    w=linalg.pinv(P.T.dot(P)).dot(P.T).dot(y)\n",
    "    # Predict \n",
    "    pred_y = P.dot(w)\n",
    "    Pp = design_matrix(Xp,mu,s,func)\n",
    "    pred_yp = Pp.dot(w)\n",
    "    return (pred_y,pred_yp)"
   ]
  },
  {
   "cell_type": "code",
   "execution_count": 165,
   "metadata": {},
   "outputs": [],
   "source": [
    "X,y,mu,Xp,yp     = get_matrices(150,20)\n",
    "(pred_y,pred_yp) = train_and_predict(X,y,mu,Xp,yp,1.0,gauss)"
   ]
  },
  {
   "cell_type": "code",
   "execution_count": 166,
   "metadata": {
    "scrolled": true
   },
   "outputs": [
    {
     "data": {
      "text/plain": [
       "<matplotlib.collections.PathCollection at 0x1a1d5c59e8>"
      ]
     },
     "execution_count": 166,
     "metadata": {},
     "output_type": "execute_result"
    },
    {
     "data": {
      "image/png": "[encoded data removed]",
      "text/plain": [
       "<Figure size 432x288 with 1 Axes>"
      ]
     },
     "metadata": {
      "needs_background": "light"
     },
     "output_type": "display_data"
    }
   ],
   "source": [
    "plt.scatter(X['petal_length'],y,c='blue',alpha=0.1)\n",
    "plt.scatter(X['petal_length'],pred_y,c='red',alpha=0.1)"
   ]
  },
  {
   "cell_type": "code",
   "execution_count": 167,
   "metadata": {},
   "outputs": [
    {
     "data": {
      "text/plain": [
       "<matplotlib.collections.PathCollection at 0x1a1cae7e10>"
      ]
     },
     "execution_count": 167,
     "metadata": {},
     "output_type": "execute_result"
    },
    {
     "data": {
      "image/png": "[encoded data removed]",
      "text/plain": [
       "<Figure size 432x288 with 1 Axes>"
      ]
     },
     "metadata": {
      "needs_background": "light"
     },
     "output_type": "display_data"
    }
   ],
   "source": [
    "plt.scatter(Xp['petal_length'],yp,c='blue',alpha=0.1)\n",
    "plt.scatter(Xp['petal_length'],pred_yp,c='red',alpha=0.1)"
   ]
  },
  {
   "cell_type": "markdown",
   "metadata": {},
   "source": [
    "### d) Computing the RMS errors\n",
    "* Compute the RMS error for the training and validation/test set: $RMS = \\sqrt{\\frac{\\sum_i^n (y_i - y_i')^2}{n}}$\n",
    "* Plot the error for $s \\in [0.1,5]$\n",
    "* Plot the error for $n \\in [20,150]$ step = 10\n",
    "* Plot the error for $m \\in [10,100] $ step = 1"
   ]
  },
  {
   "cell_type": "code",
   "execution_count": 168,
   "metadata": {},
   "outputs": [],
   "source": [
    "def get_errors(n,m,s,func):\n",
    "    X,y,mu,Xp,yp     = get_matrices(n,m)\n",
    "    (pred_y,pred_yp) = train_and_predict(X,y,mu,Xp,yp,s,func)\n",
    "    return (linalg.norm(pred_y - y)/np.sqrt(len(y)),linalg.norm(pred_yp - yp)/np.sqrt(len(yp)))"
   ]
  },
  {
   "cell_type": "code",
   "execution_count": 169,
   "metadata": {},
   "outputs": [
    {
     "data": {
      "text/plain": [
       "<matplotlib.legend.Legend at 0x1a1cd31d68>"
      ]
     },
     "execution_count": 169,
     "metadata": {},
     "output_type": "execute_result"
    },
    {
     "data": {
      "image/png": "[encoded data removed]",
      "text/plain": [
       "<Figure size 432x288 with 1 Axes>"
      ]
     },
     "metadata": {
      "needs_background": "light"
     },
     "output_type": "display_data"
    }
   ],
   "source": [
    "sspace = np.linspace(0.1,5)\n",
    "train_error=[]\n",
    "test_error=[]\n",
    "for s in sspace:\n",
    "    (tne,tse)=get_errors(150,20,s,gauss)\n",
    "    train_error.append(tne)\n",
    "    test_error.append(tse)\n",
    "plt.plot(sspace,train_error,label='train',c='red')\n",
    "plt.plot(sspace,test_error,label='test',c='blue')\n",
    "plt.legend()"
   ]
  },
  {
   "cell_type": "code",
   "execution_count": 171,
   "metadata": {},
   "outputs": [
    {
     "data": {
      "text/plain": [
       "<matplotlib.legend.Legend at 0x1a1e499630>"
      ]
     },
     "execution_count": 171,
     "metadata": {},
     "output_type": "execute_result"
    },
    {
     "data": {
      "image/png": "[encoded data removed]",
      "text/plain": [
       "<Figure size 432x288 with 1 Axes>"
      ]
     },
     "metadata": {
      "needs_background": "light"
     },
     "output_type": "display_data"
    }
   ],
   "source": [
    "nspace = range(30,150,10)\n",
    "train_error=[]\n",
    "test_error=[]\n",
    "for n in nspace:\n",
    "    (tne,tse)=get_errors(n,20,1.0,gauss)\n",
    "    train_error.append(tne)\n",
    "    test_error.append(tse)\n",
    "\n",
    "plt.plot(nspace,train_error,label='train',c='red')\n",
    "plt.plot(nspace,test_error,label='test',c='blue')\n",
    "plt.legend()\n",
    "    "
   ]
  },
  {
   "cell_type": "code",
   "execution_count": 172,
   "metadata": {},
   "outputs": [
    {
     "data": {
      "text/plain": [
       "<matplotlib.legend.Legend at 0x1a1a88d7f0>"
      ]
     },
     "execution_count": 172,
     "metadata": {},
     "output_type": "execute_result"
    },
    {
     "data": {
      "image/png": "[encoded data removed]",
      "text/plain": [
       "<Figure size 432x288 with 1 Axes>"
      ]
     },
     "metadata": {
      "needs_background": "light"
     },
     "output_type": "display_data"
    }
   ],
   "source": [
    "mspace = range(10,100,1)\n",
    "train_error=[]\n",
    "test_error=[]\n",
    "for m in mspace:\n",
    "    (tne,tse)=get_errors(150,m,1.0,gauss)\n",
    "    train_error.append(tne)\n",
    "    test_error.append(tse)\n",
    "\n",
    "plt.plot(mspace,train_error,label='train',c='red')\n",
    "plt.plot(mspace,test_error,label='test',c='blue')\n",
    "plt.legend()"
   ]
  },
  {
   "cell_type": "markdown",
   "metadata": {},
   "source": [
    "## 3.- Logistic \"Regression\"... into the bikeway\n",
    "### Objective\n",
    "* Use regression models to classify (everything is connected)\n",
    "* Exercise the use of metrics\n",
    "* Learn the importance of understanding the model\n",
    "\n",
    "### Theory"
   ]
  },
  {
   "cell_type": "markdown",
   "metadata": {},
   "source": [
    "Let us explore the following idea:\n",
    "$$\\sigma(\\mathbf{w}^\\textrm{T}\\mathbf{x}) = \\frac{1}{1+\\exp(-\\mathbf{w}^\\textrm{T}\\mathbf{x})}$$"
   ]
  },
  {
   "cell_type": "code",
   "execution_count": null,
   "metadata": {},
   "outputs": [],
   "source": [
    "def logistic2D(w1=1,w2=1,w3=1):\n",
    "    w = [w1, w2, w3]\n",
    "    x1_g, x2_g = np.meshgrid(np.arange(-5., 5.0, 0.1),np.arange(-5., 5.0, 0.1))\n",
    "    y = w[0] + w[1]*x1_g + w[2]*x2_g\n",
    "    plt.contourf(x1_g, x2_g, 1./(1.+np.exp(-y)), cmap=plt.cm.seismic, levels = np.arange(0, 1.1, 0.05))\n",
    "    plt.xlim([-5,5])\n",
    "    plt.ylim([-5,5])\n",
    "    plt.colorbar()\n",
    "interact(logistic2D,w1=(-5,5),w2=(0.001,1.),w3=(0.001,1.))"
   ]
  },
  {
   "cell_type": "markdown",
   "metadata": {},
   "source": [
    "Lets use our linear model under a sigmoid function $\\sigma$ to separate classes then! \n",
    "\n",
    "Let $\\phi(\\boldsymbol{x}) = \\boldsymbol{\\phi}$\n",
    "\n",
    "$Pr(Y = c_1 \\mid \\boldsymbol{x}) = \\sigma(\\boldsymbol{w}^\\top\\boldsymbol{\\phi})$\n",
    "\n",
    "Reciprocaly\n",
    "\n",
    "$Pr(Y = c_2 \\mid \\boldsymbol{x}) = 1-\\sigma(\\boldsymbol{w}^\\top\\boldsymbol{\\phi})$\n",
    "\n",
    "Note that:\n",
    "\n",
    "$\\sigma(-a) = 1 - \\sigma(a)$\n",
    "\n",
    "So...\n",
    "\n",
    "$\\boldsymbol{w}^\\top\\boldsymbol{\\phi} = \\ln\\left(\\frac{Pr(Y=c_1\\mid\\boldsymbol{x})}{Pr(y=c_2\\mid\\boldsymbol{x})}\\right)$,\n",
    "\n",
    "Let us define $c_1 = 1$ and $c_2 = 0$ just because... then,\n",
    "\n",
    "$Pr(Y=y\\mid\\boldsymbol{x}) = \\sigma(\\boldsymbol{w}^\\top\\boldsymbol{\\phi})^y (1 - \\sigma(\\boldsymbol{w}^\\top\\boldsymbol{\\phi})^{1-y}$\n",
    "\n",
    "If we try to compute the log likelihood for a training data\n",
    "\n",
    "$$ E(\\boldsymbol{w}) = \\ln Pr(\\mathbf{Y}=\\mathbf{y}\\mid\\boldsymbol{X},\\boldsymbol{w}) = \\sum_i \\left\\{y_i \\ln( \\sigma(\\boldsymbol{w}^\\top\\boldsymbol{\\phi}_i)) + (1-y_i)\\ln(1 - \\sigma(\\boldsymbol{w}^\\top\\boldsymbol{\\phi}_i))\\right\\}$$\n",
    "\n",
    "Then, the gradient looks nice...\n",
    "\n",
    "$\\nabla E(\\boldsymbol{w}) = \\sum_{i}(\\sigma(\\boldsymbol{w}^\\top\\boldsymbol{\\phi}_i)) - y_n)\\boldsymbol{\\phi} = 0$ \n",
    "\n",
    "but is no closed form to solve this, so we use iterative methods to solve them (numerical optimization methods such as Newton-Raphson). \n",
    "\n",
    "Obviously, Mr. Scikit Learn have coded that for us... [link](http://scikit-learn.org/stable/modules/generated/sklearn.linear_model.LogisticRegression.html)\n",
    "\n"
   ]
  },
  {
   "cell_type": "code",
   "execution_count": 3,
   "metadata": {},
   "outputs": [
    {
     "name": "stderr",
     "output_type": "stream",
     "text": [
      "/Users/mauricio/anaconda3/envs/ds/lib/python3.7/site-packages/sklearn/linear_model/logistic.py:433: FutureWarning: Default solver will be changed to 'lbfgs' in 0.22. Specify a solver to silence this warning.\n",
      "  FutureWarning)\n",
      "/Users/mauricio/anaconda3/envs/ds/lib/python3.7/site-packages/sklearn/utils/validation.py:761: DataConversionWarning: A column-vector y was passed when a 1d array was expected. Please change the shape of y to (n_samples, ), for example using ravel().\n",
      "  y = column_or_1d(y, warn=True)\n"
     ]
    }
   ],
   "source": [
    "from sklearn import linear_model\n",
    "logreg = linear_model.LogisticRegression()\n",
    "dfNew = dfIris[dfIris['species']!='setosa']\n",
    "X=dfNew[['sepal_length','sepal_width','petal_length','petal_width']]\n",
    "y=dfNew[['species']]\n",
    "logreg.fit(X,y)\n",
    "y_pred = logreg.predict(X)"
   ]
  },
  {
   "cell_type": "code",
   "execution_count": 4,
   "metadata": {},
   "outputs": [
    {
     "data": {
      "text/plain": [
       "array(['versicolor', 'versicolor', 'versicolor', 'versicolor',\n",
       "       'versicolor', 'versicolor', 'versicolor', 'versicolor',\n",
       "       'versicolor', 'versicolor', 'versicolor', 'versicolor',\n",
       "       'versicolor', 'versicolor', 'versicolor', 'versicolor',\n",
       "       'versicolor', 'versicolor', 'versicolor', 'versicolor',\n",
       "       'virginica', 'versicolor', 'virginica', 'versicolor', 'versicolor',\n",
       "       'versicolor', 'versicolor', 'versicolor', 'versicolor',\n",
       "       'versicolor', 'versicolor', 'versicolor', 'versicolor',\n",
       "       'virginica', 'versicolor', 'versicolor', 'versicolor',\n",
       "       'versicolor', 'versicolor', 'versicolor', 'versicolor',\n",
       "       'versicolor', 'versicolor', 'versicolor', 'versicolor',\n",
       "       'versicolor', 'versicolor', 'versicolor', 'versicolor',\n",
       "       'versicolor', 'virginica', 'virginica', 'virginica', 'virginica',\n",
       "       'virginica', 'virginica', 'virginica', 'virginica', 'virginica',\n",
       "       'virginica', 'virginica', 'virginica', 'virginica', 'virginica',\n",
       "       'virginica', 'virginica', 'virginica', 'virginica', 'virginica',\n",
       "       'virginica', 'virginica', 'virginica', 'virginica', 'virginica',\n",
       "       'virginica', 'virginica', 'virginica', 'virginica', 'virginica',\n",
       "       'virginica', 'virginica', 'virginica', 'virginica', 'virginica',\n",
       "       'virginica', 'virginica', 'virginica', 'virginica', 'virginica',\n",
       "       'virginica', 'virginica', 'virginica', 'virginica', 'virginica',\n",
       "       'virginica', 'virginica', 'virginica', 'virginica', 'virginica',\n",
       "       'virginica'], dtype=object)"
      ]
     },
     "execution_count": 4,
     "metadata": {},
     "output_type": "execute_result"
    }
   ],
   "source": [
    "y_pred"
   ]
  },
  {
   "cell_type": "code",
   "execution_count": 5,
   "metadata": {},
   "outputs": [
    {
     "name": "stdout",
     "output_type": "stream",
     "text": [
      "True versicolors =  47\n",
      "False versicolors =  0\n",
      "True virginicas =  50\n",
      "False virginicas =  3\n"
     ]
    }
   ],
   "source": [
    "def comp_cont(y,y_pred):\n",
    "    TP = (y[y_pred=='versicolor']=='versicolor').sum()\n",
    "    FP = (y[y_pred=='versicolor']=='virginica').sum()\n",
    "    TN = (y[y_pred=='virginica']=='virginica').sum()\n",
    "    FN = (y[y_pred=='virginica']=='versicolor').sum()\n",
    "    return(TP,FP,TN,FN)\n",
    "TP,FP,TN,FN=comp_cont(y,y_pred)\n",
    "print(\"True versicolors = \",TP[0])\n",
    "print(\"False versicolors = \",FP[0])\n",
    "print(\"True virginicas = \",TN[0])\n",
    "print(\"False virginicas = \",FN[0])\n"
   ]
  },
  {
   "cell_type": "code",
   "execution_count": null,
   "metadata": {},
   "outputs": [],
   "source": []
  },
  {
   "cell_type": "code",
   "execution_count": null,
   "metadata": {},
   "outputs": [],
   "source": []
  }
 ],
 "metadata": {
  "kernelspec": {
   "display_name": "Python 3",
   "language": "python",
   "name": "python3"
  },
  "language_info": {
   "codemirror_mode": {
    "name": "ipython",
    "version": 3
   },
   "file_extension": ".py",
   "mimetype": "text/x-python",
   "name": "python",
   "nbconvert_exporter": "python",
   "pygments_lexer": "ipython3",
   "version": "3.7.1"
  }
 },
 "nbformat": 4,
 "nbformat_minor": 2
}
