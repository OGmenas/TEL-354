{
 "cells": [
  {
   "cell_type": "markdown",
   "metadata": {},
   "source": [
    "El objetivo principal del clustering es hacer grupos, hacer diferencias.\n",
    "\n",
    "**Similarity- based clustering**: input is an NxN dissimilarity mtrix or distance matrix D\n",
    "**Featured-based clustering** : the input is an NxD feature matrix or design mamtrix X\n",
    "\n",
    "Dos tipos de output:\n",
    "flat clustering, tambien llamado partitional clustering\n",
    "Hierarchical clustering, un arbol de jerarquias para separar atributos \n",
    "\n",
    "Similitud entre dos elementos tiene que ser una distancia, la distancia de un elemento a si mismo tiene que ser 0 y las demas tienen que ser >= 0\n",
    "\n",
    "El metodo mas comun para definir similitudes es tomar la suma de todas las variaciones.\n",
    "\n",
    "El algoritmo más conocido de clustering es el **K-MEANS** tenemos un set de puntos y queremos ordenarlos en k grupos.\n",
    "Cada observación corresponde al cluster con el punto promedio mas cercano, sirviendo como prototipo del cluster.\n",
    "\n",
    "||x-ui||^2 , la distancia del punto al cluster, el más cercano es el cluster al que probablemente pertenezca el punto."
   ]
  },
  {
   "cell_type": "markdown",
   "metadata": {},
   "source": [
    "**Triangulacion de Bolonoi, voronoi idk**\n",
    "Se conectan todos los puntos de una manera especial, se hacen triangulaciones y se trata de acercar lo mas posible a un triangulo equilatero.\n",
    "Entre dos puntos centrales, se tiran lineas, eso da el radio de accion y se obtienen teselaciones donde se ubican puntos para clusterizar nuevos puntos.\n",
    "Que forma tendran los clusters siempre en kmeans? seran como ovoides, ya que mientras mas grande sea el valor de k, se van haciendo más circulres u ovoidales."
   ]
  },
  {
   "cell_type": "markdown",
   "metadata": {},
   "source": [
    "Modelos generativos:\n",
    "Explican por que los datos se generan de esa forma\n",
    "Por medio de probabilidades se puede estimar qué tan probable es que aparezcan datos en un patron definido.\n"
   ]
  },
  {
   "cell_type": "markdown",
   "metadata": {},
   "source": [
    "**DBSCAN** Si con un radio determinado puedo alcanzar otro punto, pertenece al grupo.\n"
   ]
  },
  {
   "cell_type": "code",
   "execution_count": null,
   "metadata": {},
   "outputs": [],
   "source": []
  }
 ],
 "metadata": {
  "kernelspec": {
   "display_name": "Python 3",
   "language": "python",
   "name": "python3"
  },
  "language_info": {
   "codemirror_mode": {
    "name": "ipython",
    "version": 3
   },
   "file_extension": ".py",
   "mimetype": "text/x-python",
   "name": "python",
   "nbconvert_exporter": "python",
   "pygments_lexer": "ipython3",
   "version": "3.7.6"
  }
 },
 "nbformat": 4,
 "nbformat_minor": 2
}
